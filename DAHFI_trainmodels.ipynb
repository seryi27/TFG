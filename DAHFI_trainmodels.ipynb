{
  "nbformat": 4,
  "nbformat_minor": 0,
  "metadata": {
    "colab": {
      "name": "DAHFI-trainmodels.ipynb",
      "provenance": [],
      "collapsed_sections": []
    },
    "kernelspec": {
      "name": "python3",
      "display_name": "Python 3"
    },
    "language_info": {
      "name": "python"
    }
  },
  "cells": [
    {
      "cell_type": "code",
      "source": [
        "def classifier(X, y, pipeline, param_grid, base_route, iterations=100, scoring='roc_auc'):\n",
        "    scorings=[]\n",
        "    best_params = {}\n",
        "    for key in param_grid:\n",
        "        best_params[key] = []\n",
        "    \n",
        "    for it in range(iterations):\n",
        "        cv = StratifiedKFold(n_splits=5, shuffle=True, random_state=it)\n",
        "        estimator = GridSearchCV(pipeline, param_grid=param_grid, cv=cv, scoring=scoring, return_train_score=True)\n",
        "        \n",
        "        X_train, X_test, y_train, y_test = train_test_split(X, y, test_size=0.2, stratify=y, random_state=it)\n",
        "        route = base_route+str(it)+'.pkl'\n",
        "        \n",
        "        if os.path.isfile(route):\n",
        "            fitted_model = pickle.load(open(route, 'rb'))\n",
        "        else:\n",
        "            fitted_model = estimator.fit(X_train, y_train)\n",
        "            pickle.dump(fitted_model, open(route, 'wb'))\n",
        "        \n",
        "        for key in best_params:\n",
        "            best_params[key].append(fitted_model.best_params_[key])\n",
        "            \n",
        "        predic_proba = fitted_model.predict_proba(X_test)[:, 1]\n",
        "        scorings.append(roc_auc_score(y_test, predic_proba))\n",
        "            \n",
        "    return scorings, best_params"
      ],
      "metadata": {
        "id": "ZnFgzqc8kzMV"
      },
      "execution_count": null,
      "outputs": []
    },
    {
      "cell_type": "code",
      "execution_count": null,
      "metadata": {
        "id": "MkPfzrSZkleD"
      },
      "outputs": [],
      "source": [
        "import numpy as np\n",
        "import pandas as pd\n",
        "from sklearn.model_selection import GridSearchCV, StratifiedKFold, train_test_split\n",
        "from sklearn.metrics import roc_auc_score, balanced_accuracy_score\n",
        "import pickle\n",
        "import statistics as stat\n",
        "import os"
      ]
    },
    {
      "cell_type": "code",
      "source": [
        "path_csv_features = 'data/'\n",
        "preprocess_method = 'comert'\n",
        "features = pd.read_csv(path_csv_features+preprocess_method+'_gaps_features.csv', index_col=0)\n",
        "path_csv_clinical = 'data/'\n",
        "clinical_df = pd.read_csv(path_csv_clinical+'clinical_ctu-chb.csv', index_col=0, compression='gzip')\n",
        "df = features\n",
        "\n",
        "df['y'] = np.where(clinical_df['ph'] < 7.2, 1, 0)\n",
        "df = df.dropna()\n",
        "df = df.loc[:, df.columns != 'SampEn015']\n",
        "df = df.loc[:, df.columns != 'SampEn020']\n",
        "\n",
        "# normalize df\n",
        "df_normalized=(df-df.mean())/df.std()\n",
        "\n",
        "X1 = df_normalized[['baseline', 'DCC', 'ACC', 'mean', 'std',\t'LTV', 'delta',\t'STV', 'II']]\n",
        "X2 = df_normalized[['baseline', 'DCC', 'ACC', 'mean', 'std',\t'LTV', 'delta',\t'STV', 'II', 'ApEn015', 'ApEn020', 'LZC']]\n",
        "X3 = df_normalized[df.columns.difference(['y'])]\n",
        "y = df['y']"
      ],
      "metadata": {
        "id": "IAy4qOrok0xn"
      },
      "execution_count": null,
      "outputs": []
    },
    {
      "cell_type": "code",
      "source": [
        "X1.head()"
      ],
      "metadata": {
        "colab": {
          "base_uri": "https://localhost:8080/",
          "height": 206
        },
        "id": "5yGamDQKbwh6",
        "outputId": "4c9b5c8d-dbe9-4b75-8c5f-f4d841c052fc"
      },
      "execution_count": null,
      "outputs": [
        {
          "output_type": "execute_result",
          "data": {
            "text/plain": [
              "      baseline       DCC       ACC      mean       std       LTV     delta  \\\n",
              "1001  0.371055  0.370733  0.465332 -0.041659  0.668120 -0.034609 -0.066091   \n",
              "1002 -1.273967  0.786379  1.215912 -0.821005  1.608923 -0.886490  1.652657   \n",
              "1003 -1.372127 -0.876208 -0.660538 -1.547037  0.313104 -1.592909 -0.983422   \n",
              "1004 -1.000015  1.617673  2.341782 -0.869039  1.329032 -0.920700  0.933752   \n",
              "1005 -1.333700 -0.044914  0.090042 -1.381983  0.339428 -1.403628  0.481325   \n",
              "\n",
              "           STV        II  \n",
              "1001 -0.223041 -0.992970  \n",
              "1002  0.370667 -1.048297  \n",
              "1003 -0.735504 -1.297048  \n",
              "1004  0.501385 -0.795630  \n",
              "1005  0.289339 -0.114214  "
            ],
            "text/html": [
              "\n",
              "  <div id=\"df-939e9806-894c-44b0-89e8-dbfeb08bfc26\">\n",
              "    <div class=\"colab-df-container\">\n",
              "      <div>\n",
              "<style scoped>\n",
              "    .dataframe tbody tr th:only-of-type {\n",
              "        vertical-align: middle;\n",
              "    }\n",
              "\n",
              "    .dataframe tbody tr th {\n",
              "        vertical-align: top;\n",
              "    }\n",
              "\n",
              "    .dataframe thead th {\n",
              "        text-align: right;\n",
              "    }\n",
              "</style>\n",
              "<table border=\"1\" class=\"dataframe\">\n",
              "  <thead>\n",
              "    <tr style=\"text-align: right;\">\n",
              "      <th></th>\n",
              "      <th>baseline</th>\n",
              "      <th>DCC</th>\n",
              "      <th>ACC</th>\n",
              "      <th>mean</th>\n",
              "      <th>std</th>\n",
              "      <th>LTV</th>\n",
              "      <th>delta</th>\n",
              "      <th>STV</th>\n",
              "      <th>II</th>\n",
              "    </tr>\n",
              "  </thead>\n",
              "  <tbody>\n",
              "    <tr>\n",
              "      <th>1001</th>\n",
              "      <td>0.371055</td>\n",
              "      <td>0.370733</td>\n",
              "      <td>0.465332</td>\n",
              "      <td>-0.041659</td>\n",
              "      <td>0.668120</td>\n",
              "      <td>-0.034609</td>\n",
              "      <td>-0.066091</td>\n",
              "      <td>-0.223041</td>\n",
              "      <td>-0.992970</td>\n",
              "    </tr>\n",
              "    <tr>\n",
              "      <th>1002</th>\n",
              "      <td>-1.273967</td>\n",
              "      <td>0.786379</td>\n",
              "      <td>1.215912</td>\n",
              "      <td>-0.821005</td>\n",
              "      <td>1.608923</td>\n",
              "      <td>-0.886490</td>\n",
              "      <td>1.652657</td>\n",
              "      <td>0.370667</td>\n",
              "      <td>-1.048297</td>\n",
              "    </tr>\n",
              "    <tr>\n",
              "      <th>1003</th>\n",
              "      <td>-1.372127</td>\n",
              "      <td>-0.876208</td>\n",
              "      <td>-0.660538</td>\n",
              "      <td>-1.547037</td>\n",
              "      <td>0.313104</td>\n",
              "      <td>-1.592909</td>\n",
              "      <td>-0.983422</td>\n",
              "      <td>-0.735504</td>\n",
              "      <td>-1.297048</td>\n",
              "    </tr>\n",
              "    <tr>\n",
              "      <th>1004</th>\n",
              "      <td>-1.000015</td>\n",
              "      <td>1.617673</td>\n",
              "      <td>2.341782</td>\n",
              "      <td>-0.869039</td>\n",
              "      <td>1.329032</td>\n",
              "      <td>-0.920700</td>\n",
              "      <td>0.933752</td>\n",
              "      <td>0.501385</td>\n",
              "      <td>-0.795630</td>\n",
              "    </tr>\n",
              "    <tr>\n",
              "      <th>1005</th>\n",
              "      <td>-1.333700</td>\n",
              "      <td>-0.044914</td>\n",
              "      <td>0.090042</td>\n",
              "      <td>-1.381983</td>\n",
              "      <td>0.339428</td>\n",
              "      <td>-1.403628</td>\n",
              "      <td>0.481325</td>\n",
              "      <td>0.289339</td>\n",
              "      <td>-0.114214</td>\n",
              "    </tr>\n",
              "  </tbody>\n",
              "</table>\n",
              "</div>\n",
              "      <button class=\"colab-df-convert\" onclick=\"convertToInteractive('df-939e9806-894c-44b0-89e8-dbfeb08bfc26')\"\n",
              "              title=\"Convert this dataframe to an interactive table.\"\n",
              "              style=\"display:none;\">\n",
              "        \n",
              "  <svg xmlns=\"http://www.w3.org/2000/svg\" height=\"24px\"viewBox=\"0 0 24 24\"\n",
              "       width=\"24px\">\n",
              "    <path d=\"M0 0h24v24H0V0z\" fill=\"none\"/>\n",
              "    <path d=\"M18.56 5.44l.94 2.06.94-2.06 2.06-.94-2.06-.94-.94-2.06-.94 2.06-2.06.94zm-11 1L8.5 8.5l.94-2.06 2.06-.94-2.06-.94L8.5 2.5l-.94 2.06-2.06.94zm10 10l.94 2.06.94-2.06 2.06-.94-2.06-.94-.94-2.06-.94 2.06-2.06.94z\"/><path d=\"M17.41 7.96l-1.37-1.37c-.4-.4-.92-.59-1.43-.59-.52 0-1.04.2-1.43.59L10.3 9.45l-7.72 7.72c-.78.78-.78 2.05 0 2.83L4 21.41c.39.39.9.59 1.41.59.51 0 1.02-.2 1.41-.59l7.78-7.78 2.81-2.81c.8-.78.8-2.07 0-2.86zM5.41 20L4 18.59l7.72-7.72 1.47 1.35L5.41 20z\"/>\n",
              "  </svg>\n",
              "      </button>\n",
              "      \n",
              "  <style>\n",
              "    .colab-df-container {\n",
              "      display:flex;\n",
              "      flex-wrap:wrap;\n",
              "      gap: 12px;\n",
              "    }\n",
              "\n",
              "    .colab-df-convert {\n",
              "      background-color: #E8F0FE;\n",
              "      border: none;\n",
              "      border-radius: 50%;\n",
              "      cursor: pointer;\n",
              "      display: none;\n",
              "      fill: #1967D2;\n",
              "      height: 32px;\n",
              "      padding: 0 0 0 0;\n",
              "      width: 32px;\n",
              "    }\n",
              "\n",
              "    .colab-df-convert:hover {\n",
              "      background-color: #E2EBFA;\n",
              "      box-shadow: 0px 1px 2px rgba(60, 64, 67, 0.3), 0px 1px 3px 1px rgba(60, 64, 67, 0.15);\n",
              "      fill: #174EA6;\n",
              "    }\n",
              "\n",
              "    [theme=dark] .colab-df-convert {\n",
              "      background-color: #3B4455;\n",
              "      fill: #D2E3FC;\n",
              "    }\n",
              "\n",
              "    [theme=dark] .colab-df-convert:hover {\n",
              "      background-color: #434B5C;\n",
              "      box-shadow: 0px 1px 3px 1px rgba(0, 0, 0, 0.15);\n",
              "      filter: drop-shadow(0px 1px 2px rgba(0, 0, 0, 0.3));\n",
              "      fill: #FFFFFF;\n",
              "    }\n",
              "  </style>\n",
              "\n",
              "      <script>\n",
              "        const buttonEl =\n",
              "          document.querySelector('#df-939e9806-894c-44b0-89e8-dbfeb08bfc26 button.colab-df-convert');\n",
              "        buttonEl.style.display =\n",
              "          google.colab.kernel.accessAllowed ? 'block' : 'none';\n",
              "\n",
              "        async function convertToInteractive(key) {\n",
              "          const element = document.querySelector('#df-939e9806-894c-44b0-89e8-dbfeb08bfc26');\n",
              "          const dataTable =\n",
              "            await google.colab.kernel.invokeFunction('convertToInteractive',\n",
              "                                                     [key], {});\n",
              "          if (!dataTable) return;\n",
              "\n",
              "          const docLinkHtml = 'Like what you see? Visit the ' +\n",
              "            '<a target=\"_blank\" href=https://colab.research.google.com/notebooks/data_table.ipynb>data table notebook</a>'\n",
              "            + ' to learn more about interactive tables.';\n",
              "          element.innerHTML = '';\n",
              "          dataTable['output_type'] = 'display_data';\n",
              "          await google.colab.output.renderOutput(dataTable, element);\n",
              "          const docLink = document.createElement('div');\n",
              "          docLink.innerHTML = docLinkHtml;\n",
              "          element.appendChild(docLink);\n",
              "        }\n",
              "      </script>\n",
              "    </div>\n",
              "  </div>\n",
              "  "
            ]
          },
          "metadata": {},
          "execution_count": 14
        }
      ]
    },
    {
      "cell_type": "code",
      "source": [
        "X2.head()"
      ],
      "metadata": {
        "colab": {
          "base_uri": "https://localhost:8080/",
          "height": 206
        },
        "id": "jkVFptA_bzRV",
        "outputId": "b419cf7b-ecac-4642-c9e4-29b0426b7054"
      },
      "execution_count": null,
      "outputs": [
        {
          "output_type": "execute_result",
          "data": {
            "text/plain": [
              "      baseline       DCC       ACC      mean       std       LTV     delta  \\\n",
              "1001  0.371055  0.370733  0.465332 -0.041659  0.668120 -0.034609 -0.066091   \n",
              "1002 -1.273967  0.786379  1.215912 -0.821005  1.608923 -0.886490  1.652657   \n",
              "1003 -1.372127 -0.876208 -0.660538 -1.547037  0.313104 -1.592909 -0.983422   \n",
              "1004 -1.000015  1.617673  2.341782 -0.869039  1.329032 -0.920700  0.933752   \n",
              "1005 -1.333700 -0.044914  0.090042 -1.381983  0.339428 -1.403628  0.481325   \n",
              "\n",
              "           STV        II   ApEn015   ApEn020       LZC  \n",
              "1001 -0.223041 -0.992970 -0.618193 -0.628579 -0.139240  \n",
              "1002  0.370667 -1.048297 -0.618193 -0.628579 -0.074812  \n",
              "1003 -0.735504 -1.297048 -0.216749 -0.174785 -0.912379  \n",
              "1004  0.501385 -0.795630 -0.337375 -0.347681 -0.139240  \n",
              "1005  0.289339 -0.114214 -0.513750 -0.524106 -0.976807  "
            ],
            "text/html": [
              "\n",
              "  <div id=\"df-2dbae6b1-a06b-4631-81ff-6e169b1f25be\">\n",
              "    <div class=\"colab-df-container\">\n",
              "      <div>\n",
              "<style scoped>\n",
              "    .dataframe tbody tr th:only-of-type {\n",
              "        vertical-align: middle;\n",
              "    }\n",
              "\n",
              "    .dataframe tbody tr th {\n",
              "        vertical-align: top;\n",
              "    }\n",
              "\n",
              "    .dataframe thead th {\n",
              "        text-align: right;\n",
              "    }\n",
              "</style>\n",
              "<table border=\"1\" class=\"dataframe\">\n",
              "  <thead>\n",
              "    <tr style=\"text-align: right;\">\n",
              "      <th></th>\n",
              "      <th>baseline</th>\n",
              "      <th>DCC</th>\n",
              "      <th>ACC</th>\n",
              "      <th>mean</th>\n",
              "      <th>std</th>\n",
              "      <th>LTV</th>\n",
              "      <th>delta</th>\n",
              "      <th>STV</th>\n",
              "      <th>II</th>\n",
              "      <th>ApEn015</th>\n",
              "      <th>ApEn020</th>\n",
              "      <th>LZC</th>\n",
              "    </tr>\n",
              "  </thead>\n",
              "  <tbody>\n",
              "    <tr>\n",
              "      <th>1001</th>\n",
              "      <td>0.371055</td>\n",
              "      <td>0.370733</td>\n",
              "      <td>0.465332</td>\n",
              "      <td>-0.041659</td>\n",
              "      <td>0.668120</td>\n",
              "      <td>-0.034609</td>\n",
              "      <td>-0.066091</td>\n",
              "      <td>-0.223041</td>\n",
              "      <td>-0.992970</td>\n",
              "      <td>-0.618193</td>\n",
              "      <td>-0.628579</td>\n",
              "      <td>-0.139240</td>\n",
              "    </tr>\n",
              "    <tr>\n",
              "      <th>1002</th>\n",
              "      <td>-1.273967</td>\n",
              "      <td>0.786379</td>\n",
              "      <td>1.215912</td>\n",
              "      <td>-0.821005</td>\n",
              "      <td>1.608923</td>\n",
              "      <td>-0.886490</td>\n",
              "      <td>1.652657</td>\n",
              "      <td>0.370667</td>\n",
              "      <td>-1.048297</td>\n",
              "      <td>-0.618193</td>\n",
              "      <td>-0.628579</td>\n",
              "      <td>-0.074812</td>\n",
              "    </tr>\n",
              "    <tr>\n",
              "      <th>1003</th>\n",
              "      <td>-1.372127</td>\n",
              "      <td>-0.876208</td>\n",
              "      <td>-0.660538</td>\n",
              "      <td>-1.547037</td>\n",
              "      <td>0.313104</td>\n",
              "      <td>-1.592909</td>\n",
              "      <td>-0.983422</td>\n",
              "      <td>-0.735504</td>\n",
              "      <td>-1.297048</td>\n",
              "      <td>-0.216749</td>\n",
              "      <td>-0.174785</td>\n",
              "      <td>-0.912379</td>\n",
              "    </tr>\n",
              "    <tr>\n",
              "      <th>1004</th>\n",
              "      <td>-1.000015</td>\n",
              "      <td>1.617673</td>\n",
              "      <td>2.341782</td>\n",
              "      <td>-0.869039</td>\n",
              "      <td>1.329032</td>\n",
              "      <td>-0.920700</td>\n",
              "      <td>0.933752</td>\n",
              "      <td>0.501385</td>\n",
              "      <td>-0.795630</td>\n",
              "      <td>-0.337375</td>\n",
              "      <td>-0.347681</td>\n",
              "      <td>-0.139240</td>\n",
              "    </tr>\n",
              "    <tr>\n",
              "      <th>1005</th>\n",
              "      <td>-1.333700</td>\n",
              "      <td>-0.044914</td>\n",
              "      <td>0.090042</td>\n",
              "      <td>-1.381983</td>\n",
              "      <td>0.339428</td>\n",
              "      <td>-1.403628</td>\n",
              "      <td>0.481325</td>\n",
              "      <td>0.289339</td>\n",
              "      <td>-0.114214</td>\n",
              "      <td>-0.513750</td>\n",
              "      <td>-0.524106</td>\n",
              "      <td>-0.976807</td>\n",
              "    </tr>\n",
              "  </tbody>\n",
              "</table>\n",
              "</div>\n",
              "      <button class=\"colab-df-convert\" onclick=\"convertToInteractive('df-2dbae6b1-a06b-4631-81ff-6e169b1f25be')\"\n",
              "              title=\"Convert this dataframe to an interactive table.\"\n",
              "              style=\"display:none;\">\n",
              "        \n",
              "  <svg xmlns=\"http://www.w3.org/2000/svg\" height=\"24px\"viewBox=\"0 0 24 24\"\n",
              "       width=\"24px\">\n",
              "    <path d=\"M0 0h24v24H0V0z\" fill=\"none\"/>\n",
              "    <path d=\"M18.56 5.44l.94 2.06.94-2.06 2.06-.94-2.06-.94-.94-2.06-.94 2.06-2.06.94zm-11 1L8.5 8.5l.94-2.06 2.06-.94-2.06-.94L8.5 2.5l-.94 2.06-2.06.94zm10 10l.94 2.06.94-2.06 2.06-.94-2.06-.94-.94-2.06-.94 2.06-2.06.94z\"/><path d=\"M17.41 7.96l-1.37-1.37c-.4-.4-.92-.59-1.43-.59-.52 0-1.04.2-1.43.59L10.3 9.45l-7.72 7.72c-.78.78-.78 2.05 0 2.83L4 21.41c.39.39.9.59 1.41.59.51 0 1.02-.2 1.41-.59l7.78-7.78 2.81-2.81c.8-.78.8-2.07 0-2.86zM5.41 20L4 18.59l7.72-7.72 1.47 1.35L5.41 20z\"/>\n",
              "  </svg>\n",
              "      </button>\n",
              "      \n",
              "  <style>\n",
              "    .colab-df-container {\n",
              "      display:flex;\n",
              "      flex-wrap:wrap;\n",
              "      gap: 12px;\n",
              "    }\n",
              "\n",
              "    .colab-df-convert {\n",
              "      background-color: #E8F0FE;\n",
              "      border: none;\n",
              "      border-radius: 50%;\n",
              "      cursor: pointer;\n",
              "      display: none;\n",
              "      fill: #1967D2;\n",
              "      height: 32px;\n",
              "      padding: 0 0 0 0;\n",
              "      width: 32px;\n",
              "    }\n",
              "\n",
              "    .colab-df-convert:hover {\n",
              "      background-color: #E2EBFA;\n",
              "      box-shadow: 0px 1px 2px rgba(60, 64, 67, 0.3), 0px 1px 3px 1px rgba(60, 64, 67, 0.15);\n",
              "      fill: #174EA6;\n",
              "    }\n",
              "\n",
              "    [theme=dark] .colab-df-convert {\n",
              "      background-color: #3B4455;\n",
              "      fill: #D2E3FC;\n",
              "    }\n",
              "\n",
              "    [theme=dark] .colab-df-convert:hover {\n",
              "      background-color: #434B5C;\n",
              "      box-shadow: 0px 1px 3px 1px rgba(0, 0, 0, 0.15);\n",
              "      filter: drop-shadow(0px 1px 2px rgba(0, 0, 0, 0.3));\n",
              "      fill: #FFFFFF;\n",
              "    }\n",
              "  </style>\n",
              "\n",
              "      <script>\n",
              "        const buttonEl =\n",
              "          document.querySelector('#df-2dbae6b1-a06b-4631-81ff-6e169b1f25be button.colab-df-convert');\n",
              "        buttonEl.style.display =\n",
              "          google.colab.kernel.accessAllowed ? 'block' : 'none';\n",
              "\n",
              "        async function convertToInteractive(key) {\n",
              "          const element = document.querySelector('#df-2dbae6b1-a06b-4631-81ff-6e169b1f25be');\n",
              "          const dataTable =\n",
              "            await google.colab.kernel.invokeFunction('convertToInteractive',\n",
              "                                                     [key], {});\n",
              "          if (!dataTable) return;\n",
              "\n",
              "          const docLinkHtml = 'Like what you see? Visit the ' +\n",
              "            '<a target=\"_blank\" href=https://colab.research.google.com/notebooks/data_table.ipynb>data table notebook</a>'\n",
              "            + ' to learn more about interactive tables.';\n",
              "          element.innerHTML = '';\n",
              "          dataTable['output_type'] = 'display_data';\n",
              "          await google.colab.output.renderOutput(dataTable, element);\n",
              "          const docLink = document.createElement('div');\n",
              "          docLink.innerHTML = docLinkHtml;\n",
              "          element.appendChild(docLink);\n",
              "        }\n",
              "      </script>\n",
              "    </div>\n",
              "  </div>\n",
              "  "
            ]
          },
          "metadata": {},
          "execution_count": 15
        }
      ]
    },
    {
      "cell_type": "code",
      "source": [
        "X3.head()"
      ],
      "metadata": {
        "colab": {
          "base_uri": "https://localhost:8080/",
          "height": 317
        },
        "id": "eY1MVrnL0T2e",
        "outputId": "8d26a3d3-9d68-4106-c8f6-7c0223dab3db"
      },
      "execution_count": null,
      "outputs": [
        {
          "output_type": "execute_result",
          "data": {
            "text/plain": [
              "           ACC   ApEn015   ApEn020       DCC        II       LTV       LZC  \\\n",
              "1001  0.465332 -0.618193 -0.628579  0.370733 -0.992970 -0.034609 -0.139240   \n",
              "1002  1.215912 -0.618193 -0.628579  0.786379 -1.048297 -0.886490 -0.074812   \n",
              "1003 -0.660538 -0.216749 -0.174785 -0.876208 -1.297048 -1.592909 -0.912379   \n",
              "1004  2.341782 -0.337375 -0.347681  1.617673 -0.795630 -0.920700 -0.139240   \n",
              "1005  0.090042 -0.513750 -0.524106 -0.044914 -0.114214 -1.403628 -0.976807   \n",
              "\n",
              "           STV  baseline  contrast HF  ...  energy HF  energy LF  energy MF  \\\n",
              "1001 -0.223041  0.371055    -1.116777  ...  -0.040932  -0.078760   0.379262   \n",
              "1002  0.370667 -1.273967    -0.534793  ...   1.013918   0.264007   1.005997   \n",
              "1003 -0.735504 -1.372127    -0.626955  ...   0.079011   0.899446   0.716577   \n",
              "1004  0.501385 -1.000015     1.117290  ...   2.299462  -1.298181  -0.490796   \n",
              "1005  0.289339 -1.333700     0.279301  ...  -0.223211  -0.613450  -1.318542   \n",
              "\n",
              "      energy VLF  homogeneity HF  homogeneity LF  homogeneity MF  \\\n",
              "1001   -0.734966        0.193581        0.116293        0.239711   \n",
              "1002   -0.880381        1.297752        0.435256        0.698201   \n",
              "1003    0.780339       -0.039330        1.038202        0.369768   \n",
              "1004   -2.239486        1.469326       -1.332730       -0.358917   \n",
              "1005   -1.012053       -0.059617       -0.680830       -1.240000   \n",
              "\n",
              "      homogeneity VLF      mean       std  \n",
              "1001         0.421862 -0.041659  0.668120  \n",
              "1002         0.440853 -0.821005  1.608923  \n",
              "1003        -0.426147 -1.547037  0.313104  \n",
              "1004         0.594461 -0.869039  1.329032  \n",
              "1005         0.162099 -1.381983  0.339428  \n",
              "\n",
              "[5 rows x 28 columns]"
            ],
            "text/html": [
              "\n",
              "  <div id=\"df-9e7be4c9-f391-4806-971b-dbf9cd3c1e8c\">\n",
              "    <div class=\"colab-df-container\">\n",
              "      <div>\n",
              "<style scoped>\n",
              "    .dataframe tbody tr th:only-of-type {\n",
              "        vertical-align: middle;\n",
              "    }\n",
              "\n",
              "    .dataframe tbody tr th {\n",
              "        vertical-align: top;\n",
              "    }\n",
              "\n",
              "    .dataframe thead th {\n",
              "        text-align: right;\n",
              "    }\n",
              "</style>\n",
              "<table border=\"1\" class=\"dataframe\">\n",
              "  <thead>\n",
              "    <tr style=\"text-align: right;\">\n",
              "      <th></th>\n",
              "      <th>ACC</th>\n",
              "      <th>ApEn015</th>\n",
              "      <th>ApEn020</th>\n",
              "      <th>DCC</th>\n",
              "      <th>II</th>\n",
              "      <th>LTV</th>\n",
              "      <th>LZC</th>\n",
              "      <th>STV</th>\n",
              "      <th>baseline</th>\n",
              "      <th>contrast HF</th>\n",
              "      <th>...</th>\n",
              "      <th>energy HF</th>\n",
              "      <th>energy LF</th>\n",
              "      <th>energy MF</th>\n",
              "      <th>energy VLF</th>\n",
              "      <th>homogeneity HF</th>\n",
              "      <th>homogeneity LF</th>\n",
              "      <th>homogeneity MF</th>\n",
              "      <th>homogeneity VLF</th>\n",
              "      <th>mean</th>\n",
              "      <th>std</th>\n",
              "    </tr>\n",
              "  </thead>\n",
              "  <tbody>\n",
              "    <tr>\n",
              "      <th>1001</th>\n",
              "      <td>0.465332</td>\n",
              "      <td>-0.618193</td>\n",
              "      <td>-0.628579</td>\n",
              "      <td>0.370733</td>\n",
              "      <td>-0.992970</td>\n",
              "      <td>-0.034609</td>\n",
              "      <td>-0.139240</td>\n",
              "      <td>-0.223041</td>\n",
              "      <td>0.371055</td>\n",
              "      <td>-1.116777</td>\n",
              "      <td>...</td>\n",
              "      <td>-0.040932</td>\n",
              "      <td>-0.078760</td>\n",
              "      <td>0.379262</td>\n",
              "      <td>-0.734966</td>\n",
              "      <td>0.193581</td>\n",
              "      <td>0.116293</td>\n",
              "      <td>0.239711</td>\n",
              "      <td>0.421862</td>\n",
              "      <td>-0.041659</td>\n",
              "      <td>0.668120</td>\n",
              "    </tr>\n",
              "    <tr>\n",
              "      <th>1002</th>\n",
              "      <td>1.215912</td>\n",
              "      <td>-0.618193</td>\n",
              "      <td>-0.628579</td>\n",
              "      <td>0.786379</td>\n",
              "      <td>-1.048297</td>\n",
              "      <td>-0.886490</td>\n",
              "      <td>-0.074812</td>\n",
              "      <td>0.370667</td>\n",
              "      <td>-1.273967</td>\n",
              "      <td>-0.534793</td>\n",
              "      <td>...</td>\n",
              "      <td>1.013918</td>\n",
              "      <td>0.264007</td>\n",
              "      <td>1.005997</td>\n",
              "      <td>-0.880381</td>\n",
              "      <td>1.297752</td>\n",
              "      <td>0.435256</td>\n",
              "      <td>0.698201</td>\n",
              "      <td>0.440853</td>\n",
              "      <td>-0.821005</td>\n",
              "      <td>1.608923</td>\n",
              "    </tr>\n",
              "    <tr>\n",
              "      <th>1003</th>\n",
              "      <td>-0.660538</td>\n",
              "      <td>-0.216749</td>\n",
              "      <td>-0.174785</td>\n",
              "      <td>-0.876208</td>\n",
              "      <td>-1.297048</td>\n",
              "      <td>-1.592909</td>\n",
              "      <td>-0.912379</td>\n",
              "      <td>-0.735504</td>\n",
              "      <td>-1.372127</td>\n",
              "      <td>-0.626955</td>\n",
              "      <td>...</td>\n",
              "      <td>0.079011</td>\n",
              "      <td>0.899446</td>\n",
              "      <td>0.716577</td>\n",
              "      <td>0.780339</td>\n",
              "      <td>-0.039330</td>\n",
              "      <td>1.038202</td>\n",
              "      <td>0.369768</td>\n",
              "      <td>-0.426147</td>\n",
              "      <td>-1.547037</td>\n",
              "      <td>0.313104</td>\n",
              "    </tr>\n",
              "    <tr>\n",
              "      <th>1004</th>\n",
              "      <td>2.341782</td>\n",
              "      <td>-0.337375</td>\n",
              "      <td>-0.347681</td>\n",
              "      <td>1.617673</td>\n",
              "      <td>-0.795630</td>\n",
              "      <td>-0.920700</td>\n",
              "      <td>-0.139240</td>\n",
              "      <td>0.501385</td>\n",
              "      <td>-1.000015</td>\n",
              "      <td>1.117290</td>\n",
              "      <td>...</td>\n",
              "      <td>2.299462</td>\n",
              "      <td>-1.298181</td>\n",
              "      <td>-0.490796</td>\n",
              "      <td>-2.239486</td>\n",
              "      <td>1.469326</td>\n",
              "      <td>-1.332730</td>\n",
              "      <td>-0.358917</td>\n",
              "      <td>0.594461</td>\n",
              "      <td>-0.869039</td>\n",
              "      <td>1.329032</td>\n",
              "    </tr>\n",
              "    <tr>\n",
              "      <th>1005</th>\n",
              "      <td>0.090042</td>\n",
              "      <td>-0.513750</td>\n",
              "      <td>-0.524106</td>\n",
              "      <td>-0.044914</td>\n",
              "      <td>-0.114214</td>\n",
              "      <td>-1.403628</td>\n",
              "      <td>-0.976807</td>\n",
              "      <td>0.289339</td>\n",
              "      <td>-1.333700</td>\n",
              "      <td>0.279301</td>\n",
              "      <td>...</td>\n",
              "      <td>-0.223211</td>\n",
              "      <td>-0.613450</td>\n",
              "      <td>-1.318542</td>\n",
              "      <td>-1.012053</td>\n",
              "      <td>-0.059617</td>\n",
              "      <td>-0.680830</td>\n",
              "      <td>-1.240000</td>\n",
              "      <td>0.162099</td>\n",
              "      <td>-1.381983</td>\n",
              "      <td>0.339428</td>\n",
              "    </tr>\n",
              "  </tbody>\n",
              "</table>\n",
              "<p>5 rows × 28 columns</p>\n",
              "</div>\n",
              "      <button class=\"colab-df-convert\" onclick=\"convertToInteractive('df-9e7be4c9-f391-4806-971b-dbf9cd3c1e8c')\"\n",
              "              title=\"Convert this dataframe to an interactive table.\"\n",
              "              style=\"display:none;\">\n",
              "        \n",
              "  <svg xmlns=\"http://www.w3.org/2000/svg\" height=\"24px\"viewBox=\"0 0 24 24\"\n",
              "       width=\"24px\">\n",
              "    <path d=\"M0 0h24v24H0V0z\" fill=\"none\"/>\n",
              "    <path d=\"M18.56 5.44l.94 2.06.94-2.06 2.06-.94-2.06-.94-.94-2.06-.94 2.06-2.06.94zm-11 1L8.5 8.5l.94-2.06 2.06-.94-2.06-.94L8.5 2.5l-.94 2.06-2.06.94zm10 10l.94 2.06.94-2.06 2.06-.94-2.06-.94-.94-2.06-.94 2.06-2.06.94z\"/><path d=\"M17.41 7.96l-1.37-1.37c-.4-.4-.92-.59-1.43-.59-.52 0-1.04.2-1.43.59L10.3 9.45l-7.72 7.72c-.78.78-.78 2.05 0 2.83L4 21.41c.39.39.9.59 1.41.59.51 0 1.02-.2 1.41-.59l7.78-7.78 2.81-2.81c.8-.78.8-2.07 0-2.86zM5.41 20L4 18.59l7.72-7.72 1.47 1.35L5.41 20z\"/>\n",
              "  </svg>\n",
              "      </button>\n",
              "      \n",
              "  <style>\n",
              "    .colab-df-container {\n",
              "      display:flex;\n",
              "      flex-wrap:wrap;\n",
              "      gap: 12px;\n",
              "    }\n",
              "\n",
              "    .colab-df-convert {\n",
              "      background-color: #E8F0FE;\n",
              "      border: none;\n",
              "      border-radius: 50%;\n",
              "      cursor: pointer;\n",
              "      display: none;\n",
              "      fill: #1967D2;\n",
              "      height: 32px;\n",
              "      padding: 0 0 0 0;\n",
              "      width: 32px;\n",
              "    }\n",
              "\n",
              "    .colab-df-convert:hover {\n",
              "      background-color: #E2EBFA;\n",
              "      box-shadow: 0px 1px 2px rgba(60, 64, 67, 0.3), 0px 1px 3px 1px rgba(60, 64, 67, 0.15);\n",
              "      fill: #174EA6;\n",
              "    }\n",
              "\n",
              "    [theme=dark] .colab-df-convert {\n",
              "      background-color: #3B4455;\n",
              "      fill: #D2E3FC;\n",
              "    }\n",
              "\n",
              "    [theme=dark] .colab-df-convert:hover {\n",
              "      background-color: #434B5C;\n",
              "      box-shadow: 0px 1px 3px 1px rgba(0, 0, 0, 0.15);\n",
              "      filter: drop-shadow(0px 1px 2px rgba(0, 0, 0, 0.3));\n",
              "      fill: #FFFFFF;\n",
              "    }\n",
              "  </style>\n",
              "\n",
              "      <script>\n",
              "        const buttonEl =\n",
              "          document.querySelector('#df-9e7be4c9-f391-4806-971b-dbf9cd3c1e8c button.colab-df-convert');\n",
              "        buttonEl.style.display =\n",
              "          google.colab.kernel.accessAllowed ? 'block' : 'none';\n",
              "\n",
              "        async function convertToInteractive(key) {\n",
              "          const element = document.querySelector('#df-9e7be4c9-f391-4806-971b-dbf9cd3c1e8c');\n",
              "          const dataTable =\n",
              "            await google.colab.kernel.invokeFunction('convertToInteractive',\n",
              "                                                     [key], {});\n",
              "          if (!dataTable) return;\n",
              "\n",
              "          const docLinkHtml = 'Like what you see? Visit the ' +\n",
              "            '<a target=\"_blank\" href=https://colab.research.google.com/notebooks/data_table.ipynb>data table notebook</a>'\n",
              "            + ' to learn more about interactive tables.';\n",
              "          element.innerHTML = '';\n",
              "          dataTable['output_type'] = 'display_data';\n",
              "          await google.colab.output.renderOutput(dataTable, element);\n",
              "          const docLink = document.createElement('div');\n",
              "          docLink.innerHTML = docLinkHtml;\n",
              "          element.appendChild(docLink);\n",
              "        }\n",
              "      </script>\n",
              "    </div>\n",
              "  </div>\n",
              "  "
            ]
          },
          "metadata": {},
          "execution_count": 16
        }
      ]
    },
    {
      "cell_type": "markdown",
      "source": [
        "### LDA"
      ],
      "metadata": {
        "id": "2o0mZLfQYko8"
      }
    },
    {
      "cell_type": "code",
      "source": [
        "from sklearn.discriminant_analysis import LinearDiscriminantAnalysis"
      ],
      "metadata": {
        "id": "fAXSXjQXYjkT"
      },
      "execution_count": null,
      "outputs": []
    },
    {
      "cell_type": "code",
      "source": [
        "pipeline = LinearDiscriminantAnalysis()\n",
        "param_grid = {}\n",
        "base_route = 'modelos/base_features/lda/'\n",
        "\n",
        "#scorings, best_params = classifier(X1, y, pipeline, param_grid, base_route)\n",
        "mean_base_lda = 0.595\n",
        "std_base_lda = 0.037\n",
        "\n",
        "print(\"Resultados con features base: \" + \"%.3f\" % mean_base_lda + ' +/- ' + \"%.3f\" % std_base_lda)\n",
        "\n",
        "base_route = 'modelos/mid_features/lda/'\n",
        "#scorings, best_params = classifier(X2, y, pipeline, param_grid, base_route)\n",
        "mean_mid_lda = 0.592\n",
        "std_mid_lda = 0.037\n",
        "\n",
        "print(\"Resultados con features intermedias: \" + \"%.3f\" % mean_mid_lda + ' +/- ' + \"%.3f\" % std_mid_lda)\n",
        "\n",
        "base_route = 'modelos/all_features/lda/'\n",
        "#scorings, best_params = classifier(X3, y, pipeline, param_grid, base_route)\n",
        "mean_all_lda = 0.598\n",
        "std_all_lda = 0.038\n",
        "\n",
        "print(\"Resultados con todas las features: \" + \"%.3f\" % mean_all_lda + ' +/- ' + \"%.3f\" % std_all_lda)"
      ],
      "metadata": {
        "colab": {
          "base_uri": "https://localhost:8080/"
        },
        "id": "fW2ifvgVajwK",
        "outputId": "fb330b7b-9bc9-4649-b4b0-71ce440bbab1"
      },
      "execution_count": null,
      "outputs": [
        {
          "output_type": "stream",
          "name": "stdout",
          "text": [
            "Resultados con features base: 0.595 +/- 0.037\n",
            "Resultados con features intermedias: 0.592 +/- 0.037\n",
            "Resultados con todas las features: 0.598 +/- 0.038\n"
          ]
        }
      ]
    },
    {
      "cell_type": "markdown",
      "source": [
        "### QDA"
      ],
      "metadata": {
        "id": "nDerUHjuYNmx"
      }
    },
    {
      "cell_type": "code",
      "source": [
        "from sklearn.discriminant_analysis import QuadraticDiscriminantAnalysis"
      ],
      "metadata": {
        "id": "VytIpH7bmRM1"
      },
      "execution_count": null,
      "outputs": []
    },
    {
      "cell_type": "code",
      "source": [
        "pipeline = QuadraticDiscriminantAnalysis()\n",
        "param_grid = {}\n",
        "base_route = 'modelos/base_features/qda/'\n",
        "\n",
        "#scorings, best_params = classifier(X1, y, pipeline, param_grid, base_route)\n",
        "mean_base_qda = 0.591\n",
        "std_base_qda = 0.039\n",
        "\n",
        "print(\"Resultados con features base: \" + \"%.3f\" % mean_base_qda + ' +/- ' + \"%.3f\" % std_base_qda)\n",
        "\n",
        "base_route = 'modelos/mid_features/qda/'\n",
        "#scorings, best_params = classifier(X2, y, pipeline, param_grid, base_route)\n",
        "mean_mid_qda = 0.589\n",
        "std_mid_qda = 0.042\n",
        "\n",
        "print(\"Resultados con features intermedias: \" + \"%.3f\" % mean_mid_qda + ' +/- ' + \"%.3f\" % std_mid_qda)\n",
        "\n",
        "base_route = 'modelos/all_features/qda/'\n",
        "#scorings, best_params = classifier(X3, y, pipeline, param_grid, base_route)\n",
        "mean_all_qda = 0.559\n",
        "std_all_qda = 0.035\n",
        "\n",
        "print(\"Resultados con todas las features: \" + \"%.3f\" % mean_all_qda + ' +/- ' + \"%.3f\" % std_all_qda)"
      ],
      "metadata": {
        "colab": {
          "base_uri": "https://localhost:8080/"
        },
        "id": "G3dqC17Bl5mx",
        "outputId": "5d7a95b4-1756-4e05-9e31-ae006cd7c70a"
      },
      "execution_count": null,
      "outputs": [
        {
          "output_type": "stream",
          "name": "stdout",
          "text": [
            "Resultados con features base: 0.591 +/- 0.039\n",
            "Resultados con features intermedias: 0.589 +/- 0.042\n",
            "Resultados con todas las features: 0.559 +/- 0.035\n"
          ]
        }
      ]
    },
    {
      "cell_type": "markdown",
      "source": [
        "### Logistic Regression"
      ],
      "metadata": {
        "id": "CLliZgqnYUn1"
      }
    },
    {
      "cell_type": "code",
      "source": [
        "from sklearn.linear_model import LogisticRegression"
      ],
      "metadata": {
        "id": "EUSw4p1trlGZ"
      },
      "execution_count": null,
      "outputs": []
    },
    {
      "cell_type": "code",
      "source": [
        "import warnings\n",
        "warnings.filterwarnings('ignore')"
      ],
      "metadata": {
        "id": "6sDt4QRZsKtR"
      },
      "execution_count": null,
      "outputs": []
    },
    {
      "cell_type": "code",
      "source": [
        "pipeline = LogisticRegression(max_iter=1000)\n",
        "solvers = ['liblinear', 'sag']\n",
        "c_values = np.logspace(-2.0, 3.0, num=6)\n",
        "param_grid = {'solver': solvers, 'C': c_values}\n",
        "base_route = 'modelos/base_features/logreg/'\n",
        "\n",
        "#scorings, best_params = classifier(X1, y, pipeline, param_grid, base_route)\n",
        "mean_base_logreg = 0.595\n",
        "std_base_logreg = 0.035\n",
        "\n",
        "print(\"Resultados con features base: \" + \"%.3f\" % mean_base_logreg + ' +/- ' + \"%.3f\" % std_base_logreg)\n",
        "\n",
        "base_route = 'modelos/mid_features/logreg/'\n",
        "#scorings, best_params = classifier(X2, y, pipeline, param_grid, base_route)\n",
        "mean_mid_logreg = 0.589\n",
        "std_mid_logreg = 0.042\n",
        "\n",
        "print(\"Resultados con features intermedias: \" + \"%.3f\" % mean_mid_logreg + ' +/- ' + \"%.3f\" % std_mid_logreg)\n",
        "\n",
        "base_route = 'modelos/all_features/logreg/'\n",
        "#scorings, best_params = classifier(X3, y, pipeline, param_grid, base_route)\n",
        "mean_all_logreg = 0.595\n",
        "std_all_logreg = 0.039\n",
        "\n",
        "print(\"Resultados con todas las features: \" + \"%.3f\" % mean_all_logreg + ' +/- ' + \"%.3f\" % std_all_logreg)"
      ],
      "metadata": {
        "colab": {
          "base_uri": "https://localhost:8080/"
        },
        "id": "GTjOXuFbp0kc",
        "outputId": "bee9f00f-b8bc-4398-e40a-6e5ee04e2bb2"
      },
      "execution_count": null,
      "outputs": [
        {
          "output_type": "stream",
          "name": "stdout",
          "text": [
            "Resultados con features base: 0.595 +/- 0.035\n",
            "Resultados con features intermedias: 0.589 +/- 0.042\n",
            "Resultados con todas las features: 0.595 +/- 0.039\n"
          ]
        }
      ]
    },
    {
      "cell_type": "markdown",
      "source": [
        "### KNN"
      ],
      "metadata": {
        "id": "Xy54J-s4YZ9b"
      }
    },
    {
      "cell_type": "code",
      "source": [
        "from sklearn.neighbors import KNeighborsClassifier"
      ],
      "metadata": {
        "id": "9lMEPADEBhRt"
      },
      "execution_count": null,
      "outputs": []
    },
    {
      "cell_type": "code",
      "source": [
        "pipeline = KNeighborsClassifier()\n",
        "param_grid = {'leaf_size': list(range(20,40)),\n",
        "'n_neighbors': list(range(1,30,2)),\n",
        "'p': [1, 2]}\n",
        "base_route = 'modelos/base_features/knn/'\n",
        "\n",
        "#scorings, best_params = classifier(X1, y, pipeline, param_grid, base_route)\n",
        "mean_base_knn = 0.572\n",
        "std_base_knn = 0.046\n",
        "\n",
        "print(\"Resultados con features base: \" + \"%.3f\" % mean_base_knn + ' +/- ' + \"%.3f\" % std_base_knn)\n",
        "\n",
        "base_route = 'modelos/mid_features/knn/'\n",
        "#scorings, best_params = classifier(X2, y, pipeline, param_grid, base_route)\n",
        "mean_mid_knn = 0.583\n",
        "std_mid_knn = 0.046\n",
        "\n",
        "print(\"Resultados con features intermedias: \" + \"%.3f\" % mean_mid_knn + ' +/- ' + \"%.3f\" % std_mid_knn)\n",
        "\n",
        "base_route = 'modelos/all_features/knn/'\n",
        "#scorings, best_params = classifier(X3, y, pipeline, param_grid, base_route)\n",
        "mean_all_knn = 0.561\n",
        "std_all_knn = 0.040\n",
        "\n",
        "print(\"Resultados con todas las features: \" + \"%.3f\" % mean_all_knn + ' +/- ' + \"%.3f\" % std_all_knn)\n",
        "#!zip -r /content/modelos_roc_auc.zip /content/modelos/\n",
        "#from google.colab import files\n",
        "#files.download(\"/content/modelos_roc_auc.zip\")"
      ],
      "metadata": {
        "id": "gI_8MeB7spjz",
        "colab": {
          "base_uri": "https://localhost:8080/"
        },
        "outputId": "bdcfc19b-0128-466a-b297-4d6f48c2616c"
      },
      "execution_count": null,
      "outputs": [
        {
          "output_type": "stream",
          "name": "stdout",
          "text": [
            "Resultados con features base: 0.572 +/- 0.046\n",
            "Resultados con features intermedias: 0.583 +/- 0.046\n",
            "Resultados con todas las features: 0.561 +/- 0.040\n"
          ]
        }
      ]
    },
    {
      "cell_type": "markdown",
      "source": [
        "### Gráficos"
      ],
      "metadata": {
        "id": "_XmFVNIga9iW"
      }
    },
    {
      "cell_type": "code",
      "source": [
        "import matplotlib.pyplot as plt"
      ],
      "metadata": {
        "id": "4heZLVdHbJhM"
      },
      "execution_count": null,
      "outputs": []
    },
    {
      "cell_type": "code",
      "source": [
        "x1 = [\"Base\", \"Intermediate\", \"All\"]\n",
        "x2 = [\"Base\", \"Intermediate\", \"All\"]\n",
        "x3 = [\"Base\", \"Intermediate\", \"All\"]\n",
        "x4 = [\"Base\", \"Intermediate\", \"All\"]\n",
        "\n",
        "fig, axs = plt.subplots(2, 2)\n",
        "\n",
        "y1 = [mean_base_lda, mean_mid_lda, mean_all_lda]\n",
        "y1_error = [std_base_lda, std_mid_lda, std_all_lda]\n",
        "axs[0, 0].scatter(x1, y1)\n",
        "axs[0, 0].set_title('LDA')\n",
        "axs[0, 0].errorbar(x1, y1, yerr= y1_error,fmt='o', uplims=True, lolims=True)\n",
        "axs[0, 0].grid(color='w', linestyle='solid')\n",
        "axs[0, 0].set_xlabel('Características usadas')\n",
        "axs[0, 0].set_ylabel('Balanced Accuracy')\n",
        "\n",
        "y2 = [mean_base_qda, mean_mid_qda, mean_all_qda]\n",
        "y2_error = [std_base_qda, std_mid_qda, std_all_qda]\n",
        "axs[0, 1].scatter(x2, y2)\n",
        "axs[0, 1].set_title('QDA')\n",
        "axs[0, 1].errorbar(x2, y2, yerr= y2_error,fmt='o', uplims=True, lolims=True)\n",
        "axs[0, 1].grid(color='w', linestyle='solid')\n",
        "axs[0, 1].set_xlabel('Características usadas')\n",
        "axs[0, 1].set_ylabel('Balanced Accuracy')\n",
        "\n",
        "y3 = [mean_base_knn, mean_mid_knn, mean_all_knn]\n",
        "y3_error = [std_base_knn, std_mid_knn, std_all_knn]\n",
        "axs[1, 0].scatter(x3, y3)\n",
        "axs[1, 0].set_title('KNN')\n",
        "axs[1, 0].errorbar(x3, y3, yerr= y3_error,fmt='o', uplims=True, lolims=True)\n",
        "axs[1, 0].grid(color='w', linestyle='solid')\n",
        "axs[1, 0].set_xlabel('Características usadas')\n",
        "axs[1, 0].set_ylabel('Balanced Accuracy')\n",
        "\n",
        "y4 = [mean_base_logreg, mean_mid_logreg, mean_all_logreg]\n",
        "y4_error = [std_base_logreg, std_mid_logreg, std_all_logreg]\n",
        "axs[1, 1].scatter(x4, y4)\n",
        "axs[1, 1].set_title('Regresión logística')\n",
        "axs[1, 1].errorbar(x4, y4, yerr= y4_error, fmt='o', uplims=True, lolims=True)\n",
        "axs[1, 1].grid(color='w', linestyle='solid')\n",
        "axs[1, 1].set_xlabel('Características usadas')\n",
        "axs[1, 1].set_ylabel('Balanced Accuracy')\n",
        "\n",
        "\n",
        "plt.grid(color='w', linestyle='solid')\n",
        "for ax in [axs[0, 0], axs[0, 1], axs[1, 0], axs[1, 1]]:\n",
        "    ax.set_axisbelow(True)\n",
        "    ax.set_facecolor('#E6E6E6')\n",
        "    for spine in ax.spines.values():\n",
        "        spine.set_visible(False)\n",
        "\n",
        "    ax.xaxis.tick_bottom()\n",
        "    ax.yaxis.tick_left()\n",
        "\n",
        "    ax.xaxis.label.set_color('gray')\n",
        "    ax.yaxis.label.set_color('gray')\n",
        "\n",
        "    ax.tick_params(colors='gray', direction='out')\n",
        "    for tick in ax.get_xticklabels():\n",
        "        tick.set_color('gray')\n",
        "    for tick in ax.get_yticklabels():\n",
        "        tick.set_color('gray')\n",
        "\n",
        "\n",
        "fig.tight_layout(pad=0.1)\n",
        "fig.set_size_inches(10,10)\n",
        "\n",
        "plt.show()\n"
      ],
      "metadata": {
        "colab": {
          "base_uri": "https://localhost:8080/",
          "height": 675
        },
        "id": "czifNxFxoM6z",
        "outputId": "5bfa4bed-dc34-4b96-f951-958bd3fb112d"
      },
      "execution_count": null,
      "outputs": [
        {
          "output_type": "display_data",
          "data": {
            "text/plain": [
              "<Figure size 720x720 with 4 Axes>"
            ],
            "image/png": "[encoded data removed]"
          },
          "metadata": {
            "needs_background": "dark"
          }
        }
      ]
    },
    {
      "cell_type": "code",
      "source": [
        "x= [\"regresión logística\", \"lda\", \"qda\", \"knn\"]\n",
        "y= [mean_base_logreg, mean_base_lda, mean_base_qda, mean_base_knn]\n",
        "\n",
        "y_error = [std_base_logreg, std_base_lda, std_base_qda, std_base_knn]\n",
        "\n",
        "ax = plt.axes(facecolor='#E6E6E6')\n",
        "ax.set_axisbelow(True)\n",
        "\n",
        "plt.scatter(x,y)\n",
        "plt.errorbar(x, y, yerr= y_error,fmt='o', uplims=True, lolims=True)\n",
        "plt.grid()\n",
        "plt.title('Balanced Accuracy por método, utilizando el conjunto base')\n",
        "plt.xlabel('Método')\n",
        "plt.ylabel('Balanced Accuracy')\n",
        "\n",
        "plt.grid(color='w', linestyle='solid')\n",
        "for spine in ax.spines.values():\n",
        "    spine.set_visible(False)\n",
        "\n",
        "ax.xaxis.tick_bottom()\n",
        "ax.yaxis.tick_left()\n",
        "\n",
        "ax.xaxis.label.set_color('gray')\n",
        "ax.yaxis.label.set_color('gray')\n",
        "\n",
        "ax.tick_params(colors='gray', direction='out')\n",
        "for tick in ax.get_xticklabels():\n",
        "    tick.set_color('gray')\n",
        "for tick in ax.get_yticklabels():\n",
        "    tick.set_color('gray')\n",
        "\n",
        "plt.show()"
      ],
      "metadata": {
        "colab": {
          "base_uri": "https://localhost:8080/",
          "height": 296
        },
        "id": "IgXonAKMlJIC",
        "outputId": "b14aa087-2195-4075-ce0b-9827e25aed00"
      },
      "execution_count": null,
      "outputs": [
        {
          "output_type": "display_data",
          "data": {
            "text/plain": [
              "<Figure size 432x288 with 1 Axes>"
            ],
            "image/png": "[encoded data removed]"
          },
          "metadata": {
            "needs_background": "dark"
          }
        }
      ]
    },
    {
      "cell_type": "code",
      "source": [
        "x= [\"lda\", \"regresión logística\", \"qda\", \"knn\"]\n",
        "y= [mean_mid_lda, mean_mid_logreg, mean_mid_qda, mean_mid_knn]\n",
        "\n",
        "y_error = [std_mid_lda, std_mid_logreg, std_mid_qda, std_mid_knn]\n",
        "\n",
        "ax = plt.axes(facecolor='#E6E6E6')\n",
        "ax.set_axisbelow(True)\n",
        "\n",
        "plt.scatter(x,y)\n",
        "plt.errorbar(x, y, yerr= y_error,fmt='o', uplims=True, lolims=True)\n",
        "plt.grid()\n",
        "plt.title('Balanced Accuracy por método, utilizando el conjunto intermedio')\n",
        "plt.xlabel('Método')\n",
        "plt.ylabel('Balanced Accuracy')\n",
        "\n",
        "plt.grid(color='w', linestyle='solid')\n",
        "for spine in ax.spines.values():\n",
        "    spine.set_visible(False)\n",
        "\n",
        "ax.xaxis.tick_bottom()\n",
        "ax.yaxis.tick_left()\n",
        "\n",
        "ax.xaxis.label.set_color('gray')\n",
        "ax.yaxis.label.set_color('gray')\n",
        "\n",
        "ax.tick_params(colors='gray', direction='out')\n",
        "for tick in ax.get_xticklabels():\n",
        "    tick.set_color('gray')\n",
        "for tick in ax.get_yticklabels():\n",
        "    tick.set_color('gray')\n",
        "\n",
        "\n",
        "plt.show()"
      ],
      "metadata": {
        "colab": {
          "base_uri": "https://localhost:8080/",
          "height": 296
        },
        "id": "vQelhuNnlI_Z",
        "outputId": "b3539fcd-c80c-4ac2-e9c3-bc6b8bc2b2e5"
      },
      "execution_count": null,
      "outputs": [
        {
          "output_type": "display_data",
          "data": {
            "text/plain": [
              "<Figure size 432x288 with 1 Axes>"
            ],
            "image/png": "[encoded data removed]"
          },
          "metadata": {
            "needs_background": "dark"
          }
        }
      ]
    },
    {
      "cell_type": "code",
      "source": [
        "x= [\"lda\", \"regresión logística\", \"knn\", \"qda\"]\n",
        "y= [mean_all_lda, mean_all_logreg, mean_all_knn, mean_all_qda]\n",
        "\n",
        "y_error = [std_all_lda, std_all_logreg, std_all_knn, std_all_qda]\n",
        "\n",
        "ax = plt.axes(facecolor='#E6E6E6')\n",
        "ax.set_axisbelow(True)\n",
        "\n",
        "plt.scatter(x,y)\n",
        "plt.errorbar(x, y, yerr= y_error,fmt='o', uplims=True, lolims=True)\n",
        "plt.grid()\n",
        "plt.title('Balanced Accuracy por método, utilizando el conjunto total')\n",
        "plt.xlabel('Método')\n",
        "plt.ylabel('Balanced Accuracy')\n",
        "\n",
        "plt.grid(color='w', linestyle='solid')\n",
        "for spine in ax.spines.values():\n",
        "    spine.set_visible(False)\n",
        "\n",
        "ax.xaxis.tick_bottom()\n",
        "ax.yaxis.tick_left()\n",
        "\n",
        "ax.xaxis.label.set_color('gray')\n",
        "ax.yaxis.label.set_color('gray')\n",
        "\n",
        "ax.tick_params(colors='gray', direction='out')\n",
        "for tick in ax.get_xticklabels():\n",
        "    tick.set_color('gray')\n",
        "for tick in ax.get_yticklabels():\n",
        "    tick.set_color('gray')\n",
        "\n",
        "plt.show()"
      ],
      "metadata": {
        "colab": {
          "base_uri": "https://localhost:8080/",
          "height": 296
        },
        "id": "sxXGTKq8vqUN",
        "outputId": "1131fad0-d768-47fd-bf7c-e2af252c4845"
      },
      "execution_count": null,
      "outputs": [
        {
          "output_type": "display_data",
          "data": {
            "text/plain": [
              "<Figure size 432x288 with 1 Axes>"
            ],
            "image/png": "[encoded data removed]"
          },
          "metadata": {
            "needs_background": "dark"
          }
        }
      ]
    },
    {
      "cell_type": "markdown",
      "source": [
        "### Descargar resultados"
      ],
      "metadata": {
        "id": "rIqDBpYBbBTs"
      }
    },
    {
      "cell_type": "code",
      "source": [
        "!unzip /content/modelos_balance_accuracy.zip"
      ],
      "metadata": {
        "id": "Y0XxXB1vlG9Q"
      },
      "execution_count": null,
      "outputs": []
    },
    {
      "cell_type": "code",
      "source": [
        "!zip -r /content/modelos_balance_accuracy.zip /content/modelos/"
      ],
      "metadata": {
        "id": "VIGS-X2ImZkK"
      },
      "execution_count": null,
      "outputs": []
    },
    {
      "cell_type": "code",
      "source": [
        "from google.colab import files\n",
        "files.download(\"/content/modelos.zip\")"
      ],
      "metadata": {
        "colab": {
          "base_uri": "https://localhost:8080/",
          "height": 34
        },
        "id": "_yhzPswvneAY",
        "outputId": "069bbe51-359e-4f53-b0e0-f468d1582528"
      },
      "execution_count": null,
      "outputs": [
        {
          "output_type": "display_data",
          "data": {
            "text/plain": [
              "<IPython.core.display.Javascript object>"
            ],
            "application/javascript": [
              "\n",
              "    async function download(id, filename, size) {\n",
              "      if (!google.colab.kernel.accessAllowed) {\n",
              "        return;\n",
              "      }\n",
              "      const div = document.createElement('div');\n",
              "      const label = document.createElement('label');\n",
              "      label.textContent = `Downloading \"${filename}\": `;\n",
              "      div.appendChild(label);\n",
              "      const progress = document.createElement('progress');\n",
              "      progress.max = size;\n",
              "      div.appendChild(progress);\n",
              "      document.body.appendChild(div);\n",
              "\n",
              "      const buffers = [];\n",
              "      let downloaded = 0;\n",
              "\n",
              "      const channel = await google.colab.kernel.comms.open(id);\n",
              "      // Send a message to notify the kernel that we're ready.\n",
              "      channel.send({})\n",
              "\n",
              "      for await (const message of channel.messages) {\n",
              "        // Send a message to notify the kernel that we're ready.\n",
              "        channel.send({})\n",
              "        if (message.buffers) {\n",
              "          for (const buffer of message.buffers) {\n",
              "            buffers.push(buffer);\n",
              "            downloaded += buffer.byteLength;\n",
              "            progress.value = downloaded;\n",
              "          }\n",
              "        }\n",
              "      }\n",
              "      const blob = new Blob(buffers, {type: 'application/binary'});\n",
              "      const a = document.createElement('a');\n",
              "      a.href = window.URL.createObjectURL(blob);\n",
              "      a.download = filename;\n",
              "      div.appendChild(a);\n",
              "      a.click();\n",
              "      div.remove();\n",
              "    }\n",
              "  "
            ]
          },
          "metadata": {}
        },
        {
          "output_type": "display_data",
          "data": {
            "text/plain": [
              "<IPython.core.display.Javascript object>"
            ],
            "application/javascript": [
              "download(\"download_3c85540a-85f0-4a4f-8862-0cf441c6f363\", \"modelos.zip\", 22148012)"
            ]
          },
          "metadata": {}
        }
      ]
    },
    {
      "cell_type": "code",
      "source": [
        ""
      ],
      "metadata": {
        "id": "UhKq3jW4pH2-"
      },
      "execution_count": null,
      "outputs": []
    },
    {
      "cell_type": "code",
      "source": [
        ""
      ],
      "metadata": {
        "id": "dG-D8Ri3JYPu"
      },
      "execution_count": null,
      "outputs": []
    },
    {
      "cell_type": "code",
      "source": [
        "!rm -rf modelos/all_features/knn/*"
      ],
      "metadata": {
        "id": "oTO77uZjPzJV"
      },
      "execution_count": null,
      "outputs": []
    },
    {
      "cell_type": "code",
      "source": [
        ""
      ],
      "metadata": {
        "id": "wxVHXRmfqS99"
      },
      "execution_count": null,
      "outputs": []
    },
    {
      "cell_type": "code",
      "source": [
        ""
      ],
      "metadata": {
        "id": "HGEZsYIiclvV"
      },
      "execution_count": null,
      "outputs": []
    }
  ]
}