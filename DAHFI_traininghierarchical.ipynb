{
  "cells": [
    {
      "cell_type": "code",
      "execution_count": null,
      "metadata": {
        "id": "KWcOVmfXXM6O"
      },
      "outputs": [],
      "source": [
        "!unzip modelos_balance_accuracy.zip"
      ]
    },
    {
      "cell_type": "code",
      "execution_count": null,
      "metadata": {
        "id": "g87j7x9qOtYZ"
      },
      "outputs": [],
      "source": [
        "import numpy as np\n",
        "import pandas as pd\n",
        "from sklearn.model_selection import GridSearchCV, StratifiedKFold, train_test_split\n",
        "from sklearn.metrics import roc_auc_score, balanced_accuracy_score\n",
        "import pickle\n",
        "import statistics as stat\n",
        "import os\n",
        "from sklearn.metrics import accuracy_score\n",
        "import matplotlib.pyplot as plt"
      ]
    },
    {
      "cell_type": "code",
      "execution_count": null,
      "metadata": {
        "id": "VdTbwKnpxWQF"
      },
      "outputs": [],
      "source": [
        "# Install HiClass\n",
        "!pip install hiclass==3.1.5 memory_profiler"
      ]
    },
    {
      "cell_type": "code",
      "execution_count": null,
      "metadata": {
        "id": "X7J90yCFO4V2"
      },
      "outputs": [],
      "source": [
        "path_csv_features = 'data/'\n",
        "preprocess_method = 'comert'\n",
        "features = pd.read_csv(path_csv_features+preprocess_method+'_gaps_features.csv', index_col=0)\n",
        "path_csv_clinical = 'data/'\n",
        "clinical_df = pd.read_csv(path_csv_clinical+'clinical_ctu-chb.csv', index_col=0, compression='gzip')\n",
        "df = features\n",
        "# y is 1 if ill, 0 if healthy\n",
        "conditions = [clinical_df['apgar1'] <= 6,\n",
        "              (clinical_df['apgar1'] > 6) & (clinical_df['apgar1'] <= 8),\n",
        "              clinical_df['apgar1'] > 8]\n",
        " \n",
        "choices = [1,2,3]\n",
        " \n",
        "df['y1'] = np.select(conditions, choices)\n",
        "df['y2'] = np.where(clinical_df['ph'] < 7.2, 1, 0)\n",
        "df = df.dropna()\n",
        "df = df.loc[:, df.columns != 'SampEn015']\n",
        "df = df.loc[:, df.columns != 'SampEn020']\n",
        "df['apgar1'] = clinical_df['apgar1']\n",
        "# normalize df\n",
        "df_normalized=(df-df.mean())/df.std()\n",
        "\n",
        "y = df[[\"y1\", \"y2\"]]\n",
        "X1 = df_normalized[['baseline', 'DCC', 'ACC', 'mean', 'std', 'LTV', 'delta', 'STV', 'II']]\n",
        "X2 = df_normalized[['baseline', 'DCC', 'ACC', 'mean', 'std', 'LTV', 'delta', 'STV', 'II', 'ApEn015', 'ApEn020', 'LZC']]\n",
        "X3 = df_normalized[df_normalized.columns.difference(['apgar1', 'y', 'y1', 'y2'])]"
      ]
    },
    {
      "cell_type": "code",
      "source": [
        "df[df['apgar1'] == 1]"
      ],
      "metadata": {
        "colab": {
          "base_uri": "https://localhost:8080/",
          "height": 203
        },
        "id": "gOJNF4q--K6i",
        "outputId": "48976eb7-c8ac-46b9-9b99-784bc01b099e"
      },
      "execution_count": null,
      "outputs": [
        {
          "output_type": "execute_result",
          "data": {
            "text/plain": [
              "       baseline  DCC  ACC        mean        std        LTV      delta  \\\n",
              "1065  99.280783    5    9  105.230432  27.973182  14.406485  86.081858   \n",
              "1361  91.019696    4    4   95.970312  31.772427  13.662823  36.428000   \n",
              "\n",
              "           STV        II   ApEn015  ...  energy MF  homogeneity MF  \\\n",
              "1065  8.229189  0.306788  0.020369  ...   0.551860        0.978517   \n",
              "1361  2.957168  0.093331  0.061867  ...   0.779564        0.992708   \n",
              "\n",
              "      contrast HF  correlation HF  energy HF  homogeneity HF  y1  y2  apgar1  \\\n",
              "1065     0.437407        0.987472   0.594022        0.976280   1   1       1   \n",
              "1361     0.431265        0.987956   0.698649        0.988955   1   1       1   \n",
              "\n",
              "      class  \n",
              "1065   Bajo  \n",
              "1361   Bajo  \n",
              "\n",
              "[2 rows x 32 columns]"
            ],
            "text/html": [
              "\n",
              "  <div id=\"df-08a7d337-2ab0-4a4d-93a0-362b9267607e\">\n",
              "    <div class=\"colab-df-container\">\n",
              "      <div>\n",
              "<style scoped>\n",
              "    .dataframe tbody tr th:only-of-type {\n",
              "        vertical-align: middle;\n",
              "    }\n",
              "\n",
              "    .dataframe tbody tr th {\n",
              "        vertical-align: top;\n",
              "    }\n",
              "\n",
              "    .dataframe thead th {\n",
              "        text-align: right;\n",
              "    }\n",
              "</style>\n",
              "<table border=\"1\" class=\"dataframe\">\n",
              "  <thead>\n",
              "    <tr style=\"text-align: right;\">\n",
              "      <th></th>\n",
              "      <th>baseline</th>\n",
              "      <th>DCC</th>\n",
              "      <th>ACC</th>\n",
              "      <th>mean</th>\n",
              "      <th>std</th>\n",
              "      <th>LTV</th>\n",
              "      <th>delta</th>\n",
              "      <th>STV</th>\n",
              "      <th>II</th>\n",
              "      <th>ApEn015</th>\n",
              "      <th>...</th>\n",
              "      <th>energy MF</th>\n",
              "      <th>homogeneity MF</th>\n",
              "      <th>contrast HF</th>\n",
              "      <th>correlation HF</th>\n",
              "      <th>energy HF</th>\n",
              "      <th>homogeneity HF</th>\n",
              "      <th>y1</th>\n",
              "      <th>y2</th>\n",
              "      <th>apgar1</th>\n",
              "      <th>class</th>\n",
              "    </tr>\n",
              "  </thead>\n",
              "  <tbody>\n",
              "    <tr>\n",
              "      <th>1065</th>\n",
              "      <td>99.280783</td>\n",
              "      <td>5</td>\n",
              "      <td>9</td>\n",
              "      <td>105.230432</td>\n",
              "      <td>27.973182</td>\n",
              "      <td>14.406485</td>\n",
              "      <td>86.081858</td>\n",
              "      <td>8.229189</td>\n",
              "      <td>0.306788</td>\n",
              "      <td>0.020369</td>\n",
              "      <td>...</td>\n",
              "      <td>0.551860</td>\n",
              "      <td>0.978517</td>\n",
              "      <td>0.437407</td>\n",
              "      <td>0.987472</td>\n",
              "      <td>0.594022</td>\n",
              "      <td>0.976280</td>\n",
              "      <td>1</td>\n",
              "      <td>1</td>\n",
              "      <td>1</td>\n",
              "      <td>Bajo</td>\n",
              "    </tr>\n",
              "    <tr>\n",
              "      <th>1361</th>\n",
              "      <td>91.019696</td>\n",
              "      <td>4</td>\n",
              "      <td>4</td>\n",
              "      <td>95.970312</td>\n",
              "      <td>31.772427</td>\n",
              "      <td>13.662823</td>\n",
              "      <td>36.428000</td>\n",
              "      <td>2.957168</td>\n",
              "      <td>0.093331</td>\n",
              "      <td>0.061867</td>\n",
              "      <td>...</td>\n",
              "      <td>0.779564</td>\n",
              "      <td>0.992708</td>\n",
              "      <td>0.431265</td>\n",
              "      <td>0.987956</td>\n",
              "      <td>0.698649</td>\n",
              "      <td>0.988955</td>\n",
              "      <td>1</td>\n",
              "      <td>1</td>\n",
              "      <td>1</td>\n",
              "      <td>Bajo</td>\n",
              "    </tr>\n",
              "  </tbody>\n",
              "</table>\n",
              "<p>2 rows × 32 columns</p>\n",
              "</div>\n",
              "      <button class=\"colab-df-convert\" onclick=\"convertToInteractive('df-08a7d337-2ab0-4a4d-93a0-362b9267607e')\"\n",
              "              title=\"Convert this dataframe to an interactive table.\"\n",
              "              style=\"display:none;\">\n",
              "        \n",
              "  <svg xmlns=\"http://www.w3.org/2000/svg\" height=\"24px\"viewBox=\"0 0 24 24\"\n",
              "       width=\"24px\">\n",
              "    <path d=\"M0 0h24v24H0V0z\" fill=\"none\"/>\n",
              "    <path d=\"M18.56 5.44l.94 2.06.94-2.06 2.06-.94-2.06-.94-.94-2.06-.94 2.06-2.06.94zm-11 1L8.5 8.5l.94-2.06 2.06-.94-2.06-.94L8.5 2.5l-.94 2.06-2.06.94zm10 10l.94 2.06.94-2.06 2.06-.94-2.06-.94-.94-2.06-.94 2.06-2.06.94z\"/><path d=\"M17.41 7.96l-1.37-1.37c-.4-.4-.92-.59-1.43-.59-.52 0-1.04.2-1.43.59L10.3 9.45l-7.72 7.72c-.78.78-.78 2.05 0 2.83L4 21.41c.39.39.9.59 1.41.59.51 0 1.02-.2 1.41-.59l7.78-7.78 2.81-2.81c.8-.78.8-2.07 0-2.86zM5.41 20L4 18.59l7.72-7.72 1.47 1.35L5.41 20z\"/>\n",
              "  </svg>\n",
              "      </button>\n",
              "      \n",
              "  <style>\n",
              "    .colab-df-container {\n",
              "      display:flex;\n",
              "      flex-wrap:wrap;\n",
              "      gap: 12px;\n",
              "    }\n",
              "\n",
              "    .colab-df-convert {\n",
              "      background-color: #E8F0FE;\n",
              "      border: none;\n",
              "      border-radius: 50%;\n",
              "      cursor: pointer;\n",
              "      display: none;\n",
              "      fill: #1967D2;\n",
              "      height: 32px;\n",
              "      padding: 0 0 0 0;\n",
              "      width: 32px;\n",
              "    }\n",
              "\n",
              "    .colab-df-convert:hover {\n",
              "      background-color: #E2EBFA;\n",
              "      box-shadow: 0px 1px 2px rgba(60, 64, 67, 0.3), 0px 1px 3px 1px rgba(60, 64, 67, 0.15);\n",
              "      fill: #174EA6;\n",
              "    }\n",
              "\n",
              "    [theme=dark] .colab-df-convert {\n",
              "      background-color: #3B4455;\n",
              "      fill: #D2E3FC;\n",
              "    }\n",
              "\n",
              "    [theme=dark] .colab-df-convert:hover {\n",
              "      background-color: #434B5C;\n",
              "      box-shadow: 0px 1px 3px 1px rgba(0, 0, 0, 0.15);\n",
              "      filter: drop-shadow(0px 1px 2px rgba(0, 0, 0, 0.3));\n",
              "      fill: #FFFFFF;\n",
              "    }\n",
              "  </style>\n",
              "\n",
              "      <script>\n",
              "        const buttonEl =\n",
              "          document.querySelector('#df-08a7d337-2ab0-4a4d-93a0-362b9267607e button.colab-df-convert');\n",
              "        buttonEl.style.display =\n",
              "          google.colab.kernel.accessAllowed ? 'block' : 'none';\n",
              "\n",
              "        async function convertToInteractive(key) {\n",
              "          const element = document.querySelector('#df-08a7d337-2ab0-4a4d-93a0-362b9267607e');\n",
              "          const dataTable =\n",
              "            await google.colab.kernel.invokeFunction('convertToInteractive',\n",
              "                                                     [key], {});\n",
              "          if (!dataTable) return;\n",
              "\n",
              "          const docLinkHtml = 'Like what you see? Visit the ' +\n",
              "            '<a target=\"_blank\" href=https://colab.research.google.com/notebooks/data_table.ipynb>data table notebook</a>'\n",
              "            + ' to learn more about interactive tables.';\n",
              "          element.innerHTML = '';\n",
              "          dataTable['output_type'] = 'display_data';\n",
              "          await google.colab.output.renderOutput(dataTable, element);\n",
              "          const docLink = document.createElement('div');\n",
              "          docLink.innerHTML = docLinkHtml;\n",
              "          element.appendChild(docLink);\n",
              "        }\n",
              "      </script>\n",
              "    </div>\n",
              "  </div>\n",
              "  "
            ]
          },
          "metadata": {},
          "execution_count": 76
        }
      ]
    },
    {
      "cell_type": "markdown",
      "metadata": {
        "id": "WW08l8nDbXL-"
      },
      "source": [
        "## Hierarchical Method"
      ]
    },
    {
      "cell_type": "code",
      "execution_count": null,
      "metadata": {
        "id": "7Clk6K7wdY-q"
      },
      "outputs": [],
      "source": [
        "import itertools\n",
        "from hiclass import LocalClassifierPerParentNode"
      ]
    },
    {
      "cell_type": "code",
      "execution_count": null,
      "metadata": {
        "id": "L5X4_t3rTDvU"
      },
      "outputs": [],
      "source": [
        "def classifier2(X, y, pipeline, param_grid, base_route, iterations=100, scoring='balanced_accuracy'):\n",
        "    scorings=[]\n",
        "    best_params = {}\n",
        "    for key in param_grid:\n",
        "        best_params[key] = []\n",
        "\n",
        "\n",
        "    grid = []\n",
        "    for key, l in param_grid.items():\n",
        "        content = []\n",
        "        for val in l:\n",
        "            content.append({key: val})\n",
        "        grid.append(content)\n",
        "\n",
        "    param_grid = [{k: v for d in item for k, v in d.items()} for item in itertools.product(*grid)]\n",
        "    \n",
        "    for it in range(iterations):\n",
        "        \n",
        "        X_train, X_test, y_train, y_test = train_test_split(X, y, test_size=0.2, stratify=y['y2'], random_state=it)\n",
        "        \n",
        "        hierarchical_route = base_route+str(it)+'.pkl'\n",
        "        # if we already have the hierarchical classifier trained just load it\n",
        "        if os.path.isfile(hierarchical_route):\n",
        "            best_model = pickle.load(open(hierarchical_route, 'rb'))\n",
        "            \n",
        "        # else, do a cross-validation over the leaf classes (healthy or pathological) to choose the best params for the\n",
        "        # hierarchical underlying model.\n",
        "        else:\n",
        "            # if the method is non-parametric, then just initiate the model\n",
        "            if not param_grid:\n",
        "                best_model = LocalClassifierPerParentNode(\n",
        "                            local_classifier=pipeline,\n",
        "                            verbose=0,\n",
        "                            n_jobs=1,\n",
        "                        )\n",
        "                \n",
        "            # if the method is parametric, then do a cross validation to do hyperparameter tuning\n",
        "            else:\n",
        "                skf = StratifiedKFold(n_splits=5, shuffle=True, random_state=it)\n",
        "                potential_models = [[0, None] for _ in range(len(param_grid))]\n",
        "\n",
        "                for train_index, validate_index in skf.split(X_train, y_train['y2']):\n",
        "                    X_subtrain, X_validate = X_train.iloc[train_index], X_train.iloc[validate_index]\n",
        "                    y_subtrain, y_validate = y_train.iloc[train_index], y_train.iloc[validate_index]\n",
        "\n",
        "                    for i, params in enumerate(param_grid):\n",
        "                        lcpn = LocalClassifierPerParentNode(\n",
        "                            local_classifier=pipeline.set_params(**params),\n",
        "                            verbose=0,\n",
        "                            n_jobs=1,\n",
        "                        )\n",
        "\n",
        "                        lcpn = lcpn.fit(X_subtrain, y_subtrain)\n",
        "                        predictions = [int(x[1]) for x in lcpn.predict(X_validate)]\n",
        "                        potential_models[i][0] += balanced_accuracy_score(y_validate['y2'], predictions)\n",
        "                        potential_models[i][1] = params\n",
        "\n",
        "                best_params = max(potential_models,key=lambda item:item[0])[1]\n",
        "                best_model = LocalClassifierPerParentNode(\n",
        "                    local_classifier=pipeline.set_params(**best_params),\n",
        "                    verbose=0,\n",
        "                    n_jobs=1,\n",
        "                )\n",
        "\n",
        "            # once the best model is chosen, train it with the entire training set and save it to a local file\n",
        "            best_model.fit(X_train, y_train)\n",
        "            pickle.dump(best_model, open(hierarchical_route, 'wb'))\n",
        "\n",
        "        # get the prediction between healthy or pathological from the hierarchical classifier\n",
        "        predictions = [int(y[1]) for y in best_model.predict(X_test)]\n",
        "        scorings.append(balanced_accuracy_score(y_test['y2'], predictions))\n",
        "            \n",
        "    return scorings, best_params"
      ]
    },
    {
      "cell_type": "markdown",
      "metadata": {
        "id": "wuU4T9L4cQGk"
      },
      "source": [
        "### LDA"
      ]
    },
    {
      "cell_type": "code",
      "execution_count": null,
      "metadata": {
        "colab": {
          "base_uri": "https://localhost:8080/"
        },
        "id": "jUs-aSEPcR38",
        "outputId": "52b00246-72c2-4d0a-b075-dbf1b79c527e"
      },
      "outputs": [
        {
          "name": "stdout",
          "output_type": "stream",
          "text": [
            "Resultados con features base: 0.595 +/- 0.037\n",
            "Resultados con features intermedias: 0.592 +/- 0.037\n",
            "Resultados con todas las features: 0.598 +/- 0.038\n"
          ]
        }
      ],
      "source": [
        "pipeline = LinearDiscriminantAnalysis()\n",
        "param_grid = {}\n",
        "base_route = 'modelos/hierarchical/method2/base_features/lda/'\n",
        "\n",
        "scorings, best_params = classifier2(X1, y, pipeline, param_grid, base_route)\n",
        "mean_base_lda = stat.mean(scorings)\n",
        "std_base_lda = stat.stdev(scorings)\n",
        "\n",
        "print(\"Resultados con features base: \" + \"%.3f\" % mean_base_lda + ' +/- ' + \"%.3f\" % std_base_lda)\n",
        "\n",
        "\n",
        "base_route = 'modelos/hierarchical/method2/mid_features/lda/'\n",
        "scorings, best_params = classifier2(X2, y, pipeline, param_grid, base_route)\n",
        "mean_mid_lda = stat.mean(scorings)\n",
        "std_mid_lda = stat.stdev(scorings)\n",
        "\n",
        "print(\"Resultados con features intermedias: \" + \"%.3f\" % mean_mid_lda + ' +/- ' + \"%.3f\" % std_mid_lda)\n",
        "\n",
        "\n",
        "base_route = 'modelos/hierarchical/method2/all_features/lda/'\n",
        "scorings, best_params = classifier2(X3, y, pipeline, param_grid, base_route)\n",
        "mean_all_lda = stat.mean(scorings)\n",
        "std_all_lda = stat.stdev(scorings)\n",
        "\n",
        "print(\"Resultados con todas las features: \" + \"%.3f\" % mean_all_lda + ' +/- ' + \"%.3f\" % std_all_lda)"
      ]
    },
    {
      "cell_type": "markdown",
      "metadata": {
        "id": "Gf8vtG5_ccWa"
      },
      "source": [
        "### QDA"
      ]
    },
    {
      "cell_type": "code",
      "execution_count": null,
      "metadata": {
        "colab": {
          "base_uri": "https://localhost:8080/"
        },
        "id": "UUn9sICVTEKq",
        "outputId": "ff9ba274-c907-4c55-b30e-7f78bbb9fa8b"
      },
      "outputs": [
        {
          "name": "stdout",
          "output_type": "stream",
          "text": [
            "Resultados con features base: 0.591 +/- 0.039\n",
            "Resultados con features intermedias: 0.589 +/- 0.042\n",
            "Resultados con todas las features: 0.559 +/- 0.035\n"
          ]
        }
      ],
      "source": [
        "pipeline = QuadraticDiscriminantAnalysis()\n",
        "param_grid = {}\n",
        "base_route = 'modelos/hierarchical/method2/base_features/qda/'\n",
        "\n",
        "scorings, best_params = classifier2(X1, y, pipeline, param_grid, base_route)\n",
        "mean_base_qda = stat.mean(scorings)\n",
        "std_base_qda = stat.stdev(scorings)\n",
        "\n",
        "print(\"Resultados con features base: \" + \"%.3f\" % mean_base_qda + ' +/- ' + \"%.3f\" % std_base_qda)\n",
        "\n",
        "\n",
        "base_route = 'modelos/hierarchical/method2/mid_features/qda/'\n",
        "scorings, best_params = classifier2(X2, y, pipeline, param_grid, base_route)\n",
        "mean_mid_qda = stat.mean(scorings)\n",
        "std_mid_qda = stat.stdev(scorings)\n",
        "\n",
        "print(\"Resultados con features intermedias: \" + \"%.3f\" % mean_mid_qda + ' +/- ' + \"%.3f\" % std_mid_qda)\n",
        "\n",
        "\n",
        "base_route = 'modelos/hierarchical/method2/all_features/qda/'\n",
        "scorings, best_params = classifier2(X3, y, pipeline, param_grid, base_route)\n",
        "mean_all_qda = stat.mean(scorings)\n",
        "std_all_qda = stat.stdev(scorings)\n",
        "\n",
        "print(\"Resultados con todas las features: \" + \"%.3f\" % mean_all_qda + ' +/- ' + \"%.3f\" % std_all_qda)"
      ]
    },
    {
      "cell_type": "markdown",
      "metadata": {
        "id": "iVVOPMlVcewe"
      },
      "source": [
        "### LOGREG"
      ]
    },
    {
      "cell_type": "code",
      "execution_count": null,
      "metadata": {
        "colab": {
          "base_uri": "https://localhost:8080/"
        },
        "id": "KkZn5Lb2cg1u",
        "outputId": "1a0980ff-781d-44f7-e546-13e642b30f45"
      },
      "outputs": [
        {
          "name": "stdout",
          "output_type": "stream",
          "text": [
            "Resultados con features base: 0.595 +/- 0.035\n",
            "Resultados con features intermedias: 0.589 +/- 0.037\n",
            "Resultados con todas las features: 0.595 +/- 0.039\n"
          ]
        }
      ],
      "source": [
        "pipeline = LogisticRegression()\n",
        "solvers = ['liblinear', 'sag', 'newton-cg', 'lbfgs']\n",
        "c_values = [0.01, 0.05, 0.1, 0.5, 1, 1.5, 5, 10, 100, 1000]\n",
        "param_grid = {'solver': solvers, 'C': c_values}\n",
        "\n",
        "base_route = 'modelos/hierarchical/method2/base_features/logreg/'\n",
        "\n",
        "scorings, best_params = classifier2(X1, y, pipeline, param_grid, base_route)\n",
        "mean_base_logreg = stat.mean(scorings)\n",
        "std_base_logreg = stat.stdev(scorings)\n",
        "\n",
        "print(\"Resultados con features base: \" + \"%.3f\" % mean_base_logreg + ' +/- ' + \"%.3f\" % std_base_logreg)\n",
        "\n",
        "\n",
        "base_route = 'modelos/hierarchical/method2/mid_features/logreg/'\n",
        "scorings, best_params = classifier2(X2, y, pipeline, param_grid, base_route)\n",
        "mean_mid_logreg = stat.mean(scorings)\n",
        "std_mid_logreg = stat.stdev(scorings)\n",
        "\n",
        "print(\"Resultados con features intermedias: \" + \"%.3f\" % mean_mid_logreg + ' +/- ' + \"%.3f\" % std_mid_logreg)\n",
        "\n",
        "\n",
        "base_route = 'modelos/hierarchical/method2/all_features/logreg/'\n",
        "scorings, best_params = classifier2(X3, y, pipeline, param_grid, base_route)\n",
        "mean_all_logreg = stat.mean(scorings)\n",
        "std_all_logreg = stat.stdev(scorings)\n",
        "\n",
        "print(\"Resultados con todas las features: \" + \"%.3f\" % mean_all_logreg + ' +/- ' + \"%.3f\" % std_all_logreg)\n",
        "#!zip -r /content/modelos_total.zip /content/modelos/\n",
        "#from google.colab import files\n",
        "#files.download(\"/content/modelos_total.zip\")"
      ]
    },
    {
      "cell_type": "markdown",
      "metadata": {
        "id": "tVDI6wXFchcG"
      },
      "source": [
        "### KNN"
      ]
    },
    {
      "cell_type": "code",
      "execution_count": null,
      "metadata": {
        "colab": {
          "base_uri": "https://localhost:8080/"
        },
        "id": "pYVC5KVvcjNN",
        "outputId": "e36a5409-54fb-4bb1-b94f-2008accb8db9"
      },
      "outputs": [
        {
          "output_type": "stream",
          "name": "stdout",
          "text": [
            "Resultados con todas las features: 0.561 +/- 0.040\n"
          ]
        }
      ],
      "source": [
        "pipeline = KNeighborsClassifier()\n",
        "param_grid = {'leaf_size': list(range(20,40)),\n",
        "'n_neighbors': list(range(1,30,2)),\n",
        "'p': [1, 2]}\n",
        "\n",
        "base_route = 'modelos/hierarchical/method2/base_features/knn/'\n",
        "\n",
        "#scorings, best_params = classifier2(X1, y, pipeline, param_grid, base_route)\n",
        "#mean_base_knn = stat.mean(scorings)\n",
        "#std_base_knn = stat.stdev(scorings)\n",
        "\n",
        "#print(\"Resultados con features base: \" + \"%.3f\" % mean_base_knn + ' +/- ' + \"%.3f\" % std_base_knn)\n",
        "\n",
        "\n",
        "base_route = 'modelos/hierarchical/method2/mid_features/knn/'\n",
        "#scorings, best_params = classifier2(X2, y, pipeline, param_grid, base_route)\n",
        "#mean_mid_knn = stat.mean(scorings)\n",
        "#std_mid_knn = stat.stdev(scorings)\n",
        "\n",
        "#print(\"Resultados con features intermedias: \" + \"%.3f\" % mean_mid_knn + ' +/- ' + \"%.3f\" % std_mid_knn)\n",
        "\n",
        "\n",
        "base_route = 'modelos/hierarchical/method2/all_features/knn/'\n",
        "scorings, best_params = classifier2(X3, y, pipeline, param_grid, base_route)\n",
        "mean_all_knn = stat.mean(scorings)\n",
        "std_all_knn = stat.stdev(scorings)\n",
        "\n",
        "print(\"Resultados con todas las features: \" + \"%.3f\" % mean_all_knn + ' +/- ' + \"%.3f\" % std_all_knn)"
      ]
    },
    {
      "cell_type": "markdown",
      "metadata": {
        "id": "Ro8FKeHOcFEV"
      },
      "source": [
        "## Graphs"
      ]
    },
    {
      "cell_type": "code",
      "source": [
        "ax = plt.axes(facecolor='#E6E6E6')\n",
        "ax.set_axisbelow(True)\n",
        "\n",
        "plt.hist(clinical_df['ph'], bins=[6.8, 6.9, 7.0, 7.1, 7.2, 7.3, 7.4, 7.5], color='#2ca02c', edgecolor = \"black\")\n",
        "plt.title('Distribución de datos por nivel de pH')\n",
        "plt.xlabel('pH')\n",
        "plt.ylabel('Frecuencia')\n",
        "\n",
        "plt.grid(color='w', linestyle='solid')\n",
        "for spine in ax.spines.values():\n",
        "    spine.set_visible(False)\n",
        "\n",
        "ax.xaxis.tick_bottom()\n",
        "ax.yaxis.tick_left()\n",
        "\n",
        "ax.xaxis.label.set_color('gray')\n",
        "ax.yaxis.label.set_color('gray')\n",
        "\n",
        "ax.tick_params(colors='gray', direction='out')\n",
        "for tick in ax.get_xticklabels():\n",
        "    tick.set_color('gray')\n",
        "for tick in ax.get_yticklabels():\n",
        "    tick.set_color('gray')\n",
        "\n",
        "plt.show()"
      ],
      "metadata": {
        "colab": {
          "base_uri": "https://localhost:8080/",
          "height": 295
        },
        "id": "Qij199KY28r8",
        "outputId": "7c13149c-ee0c-485f-99f2-f9806bb9d810"
      },
      "execution_count": null,
      "outputs": [
        {
          "output_type": "display_data",
          "data": {
            "text/plain": [
              "<Figure size 432x288 with 1 Axes>"
            ],
            "image/png": "[encoded data removed]"
          },
          "metadata": {
            "needs_background": "dark"
          }
        }
      ]
    },
    {
      "cell_type": "code",
      "execution_count": null,
      "metadata": {
        "colab": {
          "base_uri": "https://localhost:8080/",
          "height": 298
        },
        "id": "qV8tSb3BWYH3",
        "outputId": "e00e4e33-8112-40e4-de17-603eba783bd2"
      },
      "outputs": [
        {
          "output_type": "display_data",
          "data": {
            "text/plain": [
              "<Figure size 432x288 with 1 Axes>"
            ],
            "image/png": "[encoded data removed]"
          },
          "metadata": {
            "needs_background": "dark"
          }
        }
      ],
      "source": [
        "ax = plt.axes(facecolor='#E6E6E6')\n",
        "ax.set_axisbelow(True)\n",
        "df['apgar1'].value_counts().sort_index().plot(ax=ax, kind='bar', xlabel='Puntuación Apgar a 1 minuto', ylabel='Frecuencia', color='#2ca02c', width=0.9, edgecolor = \"black\")\n",
        "plt.title('Distribución de datos por puntuación Apgar a 1 minuto')\n",
        "\n",
        "plt.grid(color='w', linestyle='solid')\n",
        "for spine in ax.spines.values():\n",
        "    spine.set_visible(False)\n",
        "\n",
        "ax.xaxis.tick_bottom()\n",
        "ax.yaxis.tick_left()\n",
        "\n",
        "ax.xaxis.label.set_color('gray')\n",
        "ax.yaxis.label.set_color('gray')\n",
        "\n",
        "ax.tick_params(colors='gray', direction='out')\n",
        "for tick in ax.get_xticklabels():\n",
        "    tick.set_color('gray')\n",
        "for tick in ax.get_yticklabels():\n",
        "    tick.set_color('gray')\n",
        "\n",
        "plt.show()"
      ]
    },
    {
      "cell_type": "code",
      "execution_count": null,
      "metadata": {
        "id": "-g7Sg3w9Wdc8"
      },
      "outputs": [],
      "source": [
        "df_healthy = df[df['y2'] == 0]['apgar1'].value_counts().sort_index()\n",
        "df_healthy = df_healthy.rename('healthy')\n",
        "df_healthy[1] = 0\n",
        "df_pathological = df[df['y2'] == 1]['apgar1'].value_counts().sort_index()\n",
        "df_pathological = df_pathological.rename('pathological')\n",
        "\n",
        "df_total = pd.concat([df_healthy, df_pathological], axis=1)\n",
        "\n",
        "df_percentage = pd.DataFrame()\n",
        "df_percentage[\"healthy\"] = df_healthy / (df_healthy + df_pathological)\n",
        "df_percentage[\"pathological\"] = df_pathological / (df_healthy + df_pathological)"
      ]
    },
    {
      "cell_type": "code",
      "execution_count": null,
      "metadata": {
        "colab": {
          "base_uri": "https://localhost:8080/",
          "height": 493
        },
        "id": "SPHKkpV7Weca",
        "outputId": "ce5f6ec0-90ec-49f3-8ce0-7a0646cc3374"
      },
      "outputs": [
        {
          "output_type": "display_data",
          "data": {
            "text/plain": [
              "<Figure size 1080x504 with 2 Axes>"
            ],
            "image/png": "[encoded data removed]"
          },
          "metadata": {
            "needs_background": "dark"
          }
        }
      ],
      "source": [
        "\n",
        "fig, (ax1, ax2) = plt.subplots(1, 2, figsize=(15,7))\n",
        "\n",
        "fig.suptitle('Distribución de datos sanos y patológicos por puntuación Apgar a 1 minuto (valores absolutos y porcentuales)')\n",
        "\n",
        "ax1.bar(df_total.index, df_total['healthy'], label='Sanos', zorder=3, width=0.9, edgecolor = \"black\")\n",
        "ax1.bar(df_total.index, df_total['pathological'], bottom=df_total['healthy'], color='#d62728', label='Patológicos', zorder=3, width=0.9, edgecolor = \"black\")\n",
        "ax1.legend();\n",
        "ax1.set_xlabel(\"Puntuación Apgar a 1 minuto\")\n",
        "ax1.set_xticks(df_total.index)\n",
        "ax1.set_ylabel(\"Frecuencia\")\n",
        "\n",
        "ax2.bar(df_percentage.index, df_percentage['healthy'], label='Sanos', zorder=3, width=0.9, edgecolor = \"black\")\n",
        "ax2.bar(df_percentage.index, df_percentage['pathological'], bottom=df_percentage['healthy'], color='#d62728', label='Patológicos', zorder=3, width=0.9, edgecolor = \"black\")\n",
        "ax2.legend();\n",
        "ax2.set_xlabel(\"Puntuación Apgar a 1 minuto\")\n",
        "ax2.set_ylabel(\"Frecuencia porcentual\")\n",
        "ax2.set_xticks(df_percentage.index)\n",
        "\n",
        "\n",
        "ax1.set_facecolor('#E6E6E6')\n",
        "ax2.set_facecolor('#E6E6E6')\n",
        "ax1.grid(color='w', linestyle='solid', zorder=0)\n",
        "ax2.grid(color='w', linestyle='solid', zorder=0)\n",
        "for spine in ax1.spines.values():\n",
        "    spine.set_visible(False)\n",
        "for spine in ax2.spines.values():\n",
        "    spine.set_visible(False)\n",
        "\n",
        "ax1.xaxis.tick_bottom()\n",
        "ax1.yaxis.tick_left()\n",
        "ax2.xaxis.tick_bottom()\n",
        "ax2.yaxis.tick_left()\n",
        "\n",
        "ax1.xaxis.label.set_color('gray')\n",
        "ax1.yaxis.label.set_color('gray')\n",
        "ax2.xaxis.label.set_color('gray')\n",
        "ax2.yaxis.label.set_color('gray')\n",
        "\n",
        "ax1.tick_params(colors='gray', direction='out')\n",
        "ax2.tick_params(colors='gray', direction='out')\n",
        "\n",
        "for tick in ax1.get_xticklabels():\n",
        "    tick.set_color('gray')\n",
        "for tick in ax1.get_yticklabels():\n",
        "    tick.set_color('gray')\n",
        "for tick in ax2.get_xticklabels():\n",
        "    tick.set_color('gray')\n",
        "for tick in ax2.get_yticklabels():\n",
        "    tick.set_color('gray')\n",
        "\n",
        "\n",
        "fig.show()"
      ]
    },
    {
      "cell_type": "code",
      "execution_count": null,
      "metadata": {
        "id": "pjUxz4uMWhbW"
      },
      "outputs": [],
      "source": [
        "conditions = [df['apgar1'] <= 6,\n",
        "              (df['apgar1'] > 6) & (df['apgar1'] <= 8),\n",
        "              df['apgar1'] > 8]\n",
        " \n",
        "choices = ['Bajo', 'Medio', 'Alto']\n",
        "\n",
        "df['class'] = np.select(conditions, choices)\n",
        "df_healthy = df[df['y2'] == 0]['class'].value_counts().sort_index()\n",
        "df_healthy = df_healthy.rename('healthy')\n",
        "df_pathological = df[df['y2'] == 1]['class'].value_counts().sort_index()\n",
        "df_pathological = df_pathological.rename('pathological')\n",
        "\n",
        "df_total = pd.concat([df_healthy, df_pathological], axis=1)\n",
        "df_total = df_total.reindex([\"Bajo\", \"Medio\", \"Alto\"])\n",
        "\n",
        "df_percentage = pd.DataFrame()\n",
        "df_percentage[\"healthy\"] = df_healthy / (df_healthy + df_pathological)\n",
        "df_percentage[\"pathological\"] = df_pathological / (df_healthy + df_pathological)\n",
        "df_percentage = df_percentage.reindex([\"Bajo\", \"Medio\", \"Alto\"])"
      ]
    },
    {
      "cell_type": "code",
      "execution_count": null,
      "metadata": {
        "colab": {
          "base_uri": "https://localhost:8080/",
          "height": 316
        },
        "id": "bzxDNEALWqpQ",
        "outputId": "39344758-faf4-4223-fefe-c5480fc88019"
      },
      "outputs": [
        {
          "output_type": "display_data",
          "data": {
            "text/plain": [
              "<Figure size 432x288 with 1 Axes>"
            ],
            "image/png": "[encoded data removed]"
          },
          "metadata": {
            "needs_background": "dark"
          }
        }
      ],
      "source": [
        "ax = plt.axes(facecolor='#E6E6E6')\n",
        "ax.set_axisbelow(True)\n",
        "\n",
        "plt.title('Distribución de datos por nivel de Apgar a 1 minuto')\n",
        "\n",
        "custom_dict = {'Bajo': 0, 'Medio': 1, 'Alto': 3} \n",
        "df['class'].value_counts().sort_index(key=lambda x: x.map(custom_dict)).plot(ax=ax, kind='bar', xlabel='Puntuación Apgar a 1 minuto', ylabel='Frecuencia', color='#2ca02c', width=0.9, edgecolor = \"black\")\n",
        "\n",
        "plt.grid(color='w', linestyle='solid')\n",
        "for spine in ax.spines.values():\n",
        "    spine.set_visible(False)\n",
        "\n",
        "ax.xaxis.tick_bottom()\n",
        "ax.yaxis.tick_left()\n",
        "\n",
        "ax.xaxis.label.set_color('gray')\n",
        "ax.yaxis.label.set_color('gray')\n",
        "\n",
        "ax.tick_params(colors='gray', direction='out')\n",
        "for tick in ax.get_xticklabels():\n",
        "    tick.set_color('gray')\n",
        "for tick in ax.get_yticklabels():\n",
        "    tick.set_color('gray')\n",
        "\n",
        "plt.show()\n"
      ]
    },
    {
      "cell_type": "code",
      "execution_count": null,
      "metadata": {
        "colab": {
          "base_uri": "https://localhost:8080/",
          "height": 493
        },
        "id": "xhaoPAEdWuDn",
        "outputId": "bf7ae3bb-e193-4239-b8cc-5dbb8aaabf33"
      },
      "outputs": [
        {
          "output_type": "display_data",
          "data": {
            "text/plain": [
              "<Figure size 1080x504 with 2 Axes>"
            ],
            "image/png": "[encoded data removed]"
          },
          "metadata": {
            "needs_background": "dark"
          }
        }
      ],
      "source": [
        "fig, (ax1, ax2) = plt.subplots(1, 2, figsize=(15,7))\n",
        "\n",
        "fig.suptitle('Distribución de datos sanos y patológicos por nivel de Apgar a 1 minuto (valores absolutos y porcentuales)')\n",
        "\n",
        "ax1.bar(df_total.index, df_total['healthy'], label='Sanos', zorder=3, width=0.9, edgecolor = \"black\")\n",
        "ax1.bar(df_total.index, df_total['pathological'], bottom=df_total['healthy'], color='#d62728', label='Patológicos', zorder=3, width=0.9, edgecolor = \"black\")\n",
        "ax1.legend();\n",
        "ax1.set_xlabel(\"Puntuación Apgar a 1 minuto\")\n",
        "ax1.set_xticks(df_total.index)\n",
        "ax1.set_ylabel(\"Frecuencia\")\n",
        "\n",
        "ax2.bar(df_percentage.index, df_percentage['healthy'], label='Sanos', zorder=3, width=0.9, edgecolor = \"black\")\n",
        "ax2.bar(df_percentage.index, df_percentage['pathological'], bottom=df_percentage['healthy'], color='#d62728', label='Patológicos', zorder=3, width=0.9, edgecolor = \"black\")\n",
        "ax2.legend();\n",
        "ax2.set_xlabel(\"Puntuación Apgar a 1 minuto\")\n",
        "ax2.set_ylabel(\"Frecuencia porcentual\")\n",
        "ax2.set_xticks(df_percentage.index)\n",
        "\n",
        "\n",
        "ax1.set_facecolor('#E6E6E6')\n",
        "ax2.set_facecolor('#E6E6E6')\n",
        "ax1.grid(color='w', linestyle='solid', zorder=0)\n",
        "ax2.grid(color='w', linestyle='solid', zorder=0)\n",
        "for spine in ax1.spines.values():\n",
        "    spine.set_visible(False)\n",
        "for spine in ax2.spines.values():\n",
        "    spine.set_visible(False)\n",
        "\n",
        "ax1.xaxis.tick_bottom()\n",
        "ax1.yaxis.tick_left()\n",
        "ax2.xaxis.tick_bottom()\n",
        "ax2.yaxis.tick_left()\n",
        "\n",
        "ax1.xaxis.label.set_color('gray')\n",
        "ax1.yaxis.label.set_color('gray')\n",
        "ax2.xaxis.label.set_color('gray')\n",
        "ax2.yaxis.label.set_color('gray')\n",
        "\n",
        "ax1.tick_params(colors='gray', direction='out')\n",
        "ax2.tick_params(colors='gray', direction='out')\n",
        "\n",
        "for tick in ax1.get_xticklabels():\n",
        "    tick.set_color('gray')\n",
        "for tick in ax1.get_yticklabels():\n",
        "    tick.set_color('gray')\n",
        "for tick in ax2.get_xticklabels():\n",
        "    tick.set_color('gray')\n",
        "for tick in ax2.get_yticklabels():\n",
        "    tick.set_color('gray')\n",
        "\n",
        "fig.show()"
      ]
    },
    {
      "cell_type": "code",
      "execution_count": null,
      "metadata": {
        "id": "IjLKCLnPxG_5"
      },
      "outputs": [],
      "source": [
        "def classifier(X, y, pipeline, param_grid, base_route, binary_route, iterations=100, scoring='balanced_accuracy'):\n",
        "    scorings=[]\n",
        "    best_params = {}\n",
        "    for key in param_grid:\n",
        "        best_params[key] = []\n",
        "    \n",
        "    for it in range(iterations):\n",
        "        \n",
        "        X_train, X_test, y_train, y_test = train_test_split(X, y, test_size=0.2, stratify=y['y2'], random_state=it)\n",
        "        \n",
        "        hierarchical_route = base_route+str(it)+'.pkl'\n",
        "        # if we already have the hierarchical classifier trained just load it\n",
        "        if os.path.isfile(hierarchical_route):\n",
        "            lcpn = pickle.load(open(hierarchical_route, 'rb'))\n",
        "            \n",
        "        # else, do a cross-validation over the leaf classes (healthy or pathological) to choose the best params for the\n",
        "        # hierarchical underlying model.\n",
        "        else:\n",
        "            cv = StratifiedKFold(n_splits=5, shuffle=True, random_state=it)\n",
        "            estimator = GridSearchCV(pipeline, param_grid=param_grid, cv=cv, scoring=scoring, return_train_score=True)\n",
        "            route = binary_route+str(it)+'.pkl'\n",
        "            if os.path.isfile(route):\n",
        "                fitted_model = pickle.load(open(route, 'rb'))\n",
        "            else:\n",
        "                fitted_model = estimator.fit(X_train, y_train['y2'])\n",
        "                pickle.dump(fitted_model, open(route, 'wb'))\n",
        "\n",
        "            for key in best_params:\n",
        "                best_params[key].append(fitted_model.best_params_[key])\n",
        "\n",
        "            # create the hierarchical version of the classifier and train it.\n",
        "            lcpn = LocalClassifierPerParentNode(\n",
        "                local_classifier=pipeline.set_params(**fitted_model.best_params_),\n",
        "                verbose=0,\n",
        "                n_jobs=1,\n",
        "            )\n",
        "            lcpn = lcpn.fit(X_train, y_train)\n",
        "            pickle.dump(lcpn, open(hierarchical_route, 'wb'))\n",
        "\n",
        "        # get the prediction between healthy or pathological from the hierarchical classifier\n",
        "        predictions = [int(x[1]) for x in lcpn.predict(X_test)]\n",
        "        scorings.append(balanced_accuracy_score(y_test['y2'], predictions))\n",
        "            \n",
        "    return scorings, best_params"
      ]
    },
    {
      "cell_type": "code",
      "execution_count": null,
      "metadata": {
        "id": "WhjVmTTnW_w9"
      },
      "outputs": [],
      "source": [
        "from hiclass import LocalClassifierPerParentNode"
      ]
    },
    {
      "cell_type": "code",
      "execution_count": null,
      "metadata": {
        "id": "DYxaEaWKKftf"
      },
      "outputs": [],
      "source": [
        "import warnings\n",
        "warnings.filterwarnings('ignore')"
      ]
    },
    {
      "cell_type": "markdown",
      "metadata": {
        "id": "LADh91mTVfw3"
      },
      "source": [
        "### LDA"
      ]
    },
    {
      "cell_type": "code",
      "execution_count": null,
      "metadata": {
        "id": "ZyFQaEUPXApT"
      },
      "outputs": [],
      "source": [
        "from sklearn.discriminant_analysis import LinearDiscriminantAnalysis"
      ]
    },
    {
      "cell_type": "code",
      "execution_count": null,
      "metadata": {
        "colab": {
          "base_uri": "https://localhost:8080/"
        },
        "id": "O9bWyOsYwsft",
        "outputId": "d5590dbd-5998-455d-f732-d603b93d5bf5"
      },
      "outputs": [
        {
          "name": "stdout",
          "output_type": "stream",
          "text": [
            "Resultados con features base: 0.595 +/- 0.037\n",
            "Resultados con features intermedias: 0.592 +/- 0.037\n",
            "Resultados con todas las features: 0.598 +/- 0.038\n"
          ]
        }
      ],
      "source": [
        "pipeline = LinearDiscriminantAnalysis()\n",
        "param_grid = {}\n",
        "base_route = 'modelos/hierarchical/method1/base_features/lda/'\n",
        "binary_route = 'modelos/binary/balanced_accuracy/base_features/lda/'\n",
        "\n",
        "scorings, best_params = classifier(X1, y, pipeline, param_grid, base_route, binary_route)\n",
        "mean_base_lda = stat.mean(scorings)\n",
        "std_base_lda = stat.stdev(scorings)\n",
        "\n",
        "print(\"Resultados con features base: \" + \"%.3f\" % mean_base_lda + ' +/- ' + \"%.3f\" % std_base_lda)\n",
        "\n",
        "\n",
        "base_route = 'modelos/hierarchical/method1/mid_features/lda/'\n",
        "binary_route = 'modelos/binary/balanced_accuracy/mid_features/lda/'\n",
        "scorings, best_params = classifier(X2, y, pipeline, param_grid, base_route, binary_route)\n",
        "mean_mid_lda = stat.mean(scorings)\n",
        "std_mid_lda = stat.stdev(scorings)\n",
        "\n",
        "print(\"Resultados con features intermedias: \" + \"%.3f\" % mean_mid_lda + ' +/- ' + \"%.3f\" % std_mid_lda)\n",
        "\n",
        "\n",
        "base_route = 'modelos/hierarchical/method1/all_features/lda/'\n",
        "binary_route = 'modelos/binary/balanced_accuracy/all_features/lda/'\n",
        "scorings, best_params = classifier(X3, y, pipeline, param_grid, base_route, binary_route)\n",
        "mean_all_lda = stat.mean(scorings)\n",
        "std_all_lda = stat.stdev(scorings)\n",
        "\n",
        "print(\"Resultados con todas las features: \" + \"%.3f\" % mean_all_lda + ' +/- ' + \"%.3f\" % std_all_lda)"
      ]
    },
    {
      "cell_type": "markdown",
      "metadata": {
        "id": "WLhlmzEdZQ7q"
      },
      "source": [
        "### QDA"
      ]
    },
    {
      "cell_type": "code",
      "execution_count": null,
      "metadata": {
        "id": "Ai-_88k9ZPaa"
      },
      "outputs": [],
      "source": [
        "from sklearn.discriminant_analysis import QuadraticDiscriminantAnalysis"
      ]
    },
    {
      "cell_type": "code",
      "execution_count": null,
      "metadata": {
        "colab": {
          "base_uri": "https://localhost:8080/"
        },
        "id": "2n2uVXfZZc4U",
        "outputId": "9b579075-3bf8-4b82-ce1f-e19a8c9066f0"
      },
      "outputs": [
        {
          "name": "stdout",
          "output_type": "stream",
          "text": [
            "Resultados con features base: 0.591 +/- 0.039\n",
            "Resultados con features intermedias: 0.589 +/- 0.042\n",
            "Resultados con todas las features: 0.559 +/- 0.035\n"
          ]
        }
      ],
      "source": [
        "pipeline = QuadraticDiscriminantAnalysis()\n",
        "param_grid = {}\n",
        "base_route = 'modelos/hierarchical/method1/base_features/qda/'\n",
        "binary_route = 'modelos/binary/balanced_accuracy/base_features/qda/'\n",
        "\n",
        "scorings, best_params = classifier(X1, y, pipeline, param_grid, base_route, binary_route)\n",
        "mean_base_qda = stat.mean(scorings)\n",
        "std_base_qda = stat.stdev(scorings)\n",
        "\n",
        "print(\"Resultados con features base: \" + \"%.3f\" % mean_base_qda + ' +/- ' + \"%.3f\" % std_base_qda)\n",
        "\n",
        "\n",
        "base_route = 'modelos/hierarchical/method1/mid_features/qda/'\n",
        "binary_route = 'modelos/binary/balanced_accuracy/mid_features/qda/'\n",
        "scorings, best_params = classifier(X2, y, pipeline, param_grid, base_route, binary_route)\n",
        "mean_mid_qda = stat.mean(scorings)\n",
        "std_mid_qda = stat.stdev(scorings)\n",
        "\n",
        "print(\"Resultados con features intermedias: \" + \"%.3f\" % mean_mid_qda + ' +/- ' + \"%.3f\" % std_mid_qda)\n",
        "\n",
        "\n",
        "base_route = 'modelos/hierarchical/method1/all_features/qda/'\n",
        "binary_route = 'modelos/binary/balanced_accuracy/all_features/qda/'\n",
        "scorings, best_params = classifier(X3, y, pipeline, param_grid, base_route, binary_route)\n",
        "mean_all_qda = stat.mean(scorings)\n",
        "std_all_qda = stat.stdev(scorings)\n",
        "\n",
        "print(\"Resultados con todas las features: \" + \"%.3f\" % mean_all_qda + ' +/- ' + \"%.3f\" % std_all_qda)"
      ]
    },
    {
      "cell_type": "markdown",
      "metadata": {
        "id": "0JROaU8XxKy0"
      },
      "source": [
        "### LOGREG"
      ]
    },
    {
      "cell_type": "code",
      "execution_count": null,
      "metadata": {
        "id": "jX15wQVoxOQ_"
      },
      "outputs": [],
      "source": [
        "from sklearn.linear_model import LogisticRegression"
      ]
    },
    {
      "cell_type": "code",
      "execution_count": null,
      "metadata": {
        "colab": {
          "base_uri": "https://localhost:8080/"
        },
        "id": "CnxjEOXF5Idm",
        "outputId": "4d3fe786-9a18-4fe4-94d5-3f488464f17e"
      },
      "outputs": [
        {
          "name": "stdout",
          "output_type": "stream",
          "text": [
            "Resultados con features base: 0.586 +/- 0.031\n",
            "Resultados con features intermedias: 0.583 +/- 0.035\n",
            "Resultados con todas las features: 0.582 +/- 0.034\n"
          ]
        }
      ],
      "source": [
        "pipeline = LogisticRegression()\n",
        "solvers = ['liblinear', 'sag', 'newton-cg', 'lbfgs']\n",
        "c_values = [0.01, 0.05, 0.1, 0.5, 1, 1.5, 5, 10, 100, 1000]\n",
        "param_grid = {'solver': solvers, 'C': c_values}\n",
        "\n",
        "base_route = 'modelos/hierarchical/method1/base_features/logreg/'\n",
        "binary_route = 'modelos/binary/balanced_accuracy/base_features/logreg/'\n",
        "\n",
        "scorings, best_params = classifier(X1, y, pipeline, param_grid, base_route, binary_route)\n",
        "mean_base_logreg = stat.mean(scorings)\n",
        "std_base_logreg = stat.stdev(scorings)\n",
        "\n",
        "print(\"Resultados con features base: \" + \"%.3f\" % mean_base_logreg + ' +/- ' + \"%.3f\" % std_base_logreg)\n",
        "\n",
        "\n",
        "base_route = 'modelos/hierarchical/method1/mid_features/logreg/'\n",
        "binary_route = 'modelos/binary/balanced_accuracy/mid_features/logreg/'\n",
        "scorings, best_params = classifier(X2, y, pipeline, param_grid, base_route, binary_route)\n",
        "mean_mid_logreg = stat.mean(scorings)\n",
        "std_mid_logreg = stat.stdev(scorings)\n",
        "\n",
        "print(\"Resultados con features intermedias: \" + \"%.3f\" % mean_mid_logreg + ' +/- ' + \"%.3f\" % std_mid_logreg)\n",
        "\n",
        "\n",
        "base_route = 'modelos/hierarchical/method1/all_features/logreg/'\n",
        "binary_route = 'modelos/binary/balanced_accuracy/all_features/logreg/'\n",
        "scorings, best_params = classifier(X3, y, pipeline, param_grid, base_route, binary_route)\n",
        "mean_all_logreg = stat.mean(scorings)\n",
        "std_all_logreg = stat.stdev(scorings)\n",
        "\n",
        "print(\"Resultados con todas las features: \" + \"%.3f\" % mean_all_logreg + ' +/- ' + \"%.3f\" % std_all_logreg)"
      ]
    },
    {
      "cell_type": "markdown",
      "metadata": {
        "id": "gbElujbha2N2"
      },
      "source": [
        "### KNN"
      ]
    },
    {
      "cell_type": "code",
      "execution_count": null,
      "metadata": {
        "id": "xAeehXNeR7oh"
      },
      "outputs": [],
      "source": [
        "from sklearn.neighbors import KNeighborsClassifier"
      ]
    },
    {
      "cell_type": "code",
      "execution_count": null,
      "metadata": {
        "colab": {
          "base_uri": "https://localhost:8080/"
        },
        "id": "W-jrHWERU-H5",
        "outputId": "8e0da22f-7872-41e6-c9ef-ad53fb8dac97"
      },
      "outputs": [
        {
          "name": "stdout",
          "output_type": "stream",
          "text": [
            "Resultados con features base: 0.550 +/- 0.036\n",
            "Resultados con features intermedias: 0.552 +/- 0.038\n",
            "Resultados con todas las features: 0.554 +/- 0.039\n"
          ]
        }
      ],
      "source": [
        "pipeline = KNeighborsClassifier()\n",
        "param_grid = {'leaf_size': list(range(20,40)),\n",
        "'n_neighbors': list(range(1,30,2)),\n",
        "'p': [1, 2]}\n",
        "\n",
        "base_route = 'modelos/hierarchical/method1/base_features/knn/'\n",
        "binary_route = 'modelos/binary/balanced_accuracy/base_features/knn/'\n",
        "\n",
        "scorings, best_params = classifier(X1, y, pipeline, param_grid, base_route, binary_route)\n",
        "mean_base_knn = stat.mean(scorings)\n",
        "std_base_knn = stat.stdev(scorings)\n",
        "\n",
        "print(\"Resultados con features base: \" + \"%.3f\" % mean_base_knn + ' +/- ' + \"%.3f\" % std_base_knn)\n",
        "\n",
        "\n",
        "base_route = 'modelos/hierarchical/method1/mid_features/knn/'\n",
        "binary_route = 'modelos/binary/balanced_accuracy/mid_features/knn/'\n",
        "scorings, best_params = classifier(X2, y, pipeline, param_grid, base_route, binary_route)\n",
        "mean_mid_knn = stat.mean(scorings)\n",
        "std_mid_knn = stat.stdev(scorings)\n",
        "\n",
        "print(\"Resultados con features intermedias: \" + \"%.3f\" % mean_mid_knn + ' +/- ' + \"%.3f\" % std_mid_knn)\n",
        "\n",
        "\n",
        "base_route = 'modelos/hierarchical/method1/all_features/knn/'\n",
        "binary_route = 'modelos/binary/balanced_accuracy/all_features/knn/'\n",
        "scorings, best_params = classifier(X3, y, pipeline, param_grid, base_route, binary_route)\n",
        "mean_all_knn = stat.mean(scorings)\n",
        "std_all_knn = stat.stdev(scorings)\n",
        "\n",
        "print(\"Resultados con todas las features: \" + \"%.3f\" % mean_all_knn + ' +/- ' + \"%.3f\" % std_all_knn)"
      ]
    },
    {
      "cell_type": "markdown",
      "metadata": {
        "id": "Rtf-g6llcWqU"
      },
      "source": [
        "## UTILS"
      ]
    },
    {
      "cell_type": "code",
      "execution_count": null,
      "metadata": {
        "id": "XaxY1dCtT_ox"
      },
      "outputs": [],
      "source": [
        "!rm -rf modelos/hierarchical/method2/*/knn/*"
      ]
    },
    {
      "cell_type": "code",
      "execution_count": null,
      "metadata": {
        "colab": {
          "base_uri": "https://localhost:8080/"
        },
        "id": "-4QOg1i0dfU6",
        "outputId": "b2fde125-8aff-494f-a7a7-10d6c6fb91e3"
      },
      "outputs": [
        {
          "name": "stdout",
          "output_type": "stream",
          "text": [
            "[{'leaf_size': 20, 'n_neighbors': 1, 'p': 1}, {'leaf_size': 20, 'n_neighbors': 1, 'p': 2}, {'leaf_size': 20, 'n_neighbors': 3, 'p': 1}, {'leaf_size': 20, 'n_neighbors': 3, 'p': 2}, {'leaf_size': 20, 'n_neighbors': 5, 'p': 1}, {'leaf_size': 20, 'n_neighbors': 5, 'p': 2}, {'leaf_size': 20, 'n_neighbors': 7, 'p': 1}, {'leaf_size': 20, 'n_neighbors': 7, 'p': 2}, {'leaf_size': 20, 'n_neighbors': 9, 'p': 1}, {'leaf_size': 20, 'n_neighbors': 9, 'p': 2}, {'leaf_size': 20, 'n_neighbors': 11, 'p': 1}, {'leaf_size': 20, 'n_neighbors': 11, 'p': 2}, {'leaf_size': 20, 'n_neighbors': 13, 'p': 1}, {'leaf_size': 20, 'n_neighbors': 13, 'p': 2}, {'leaf_size': 20, 'n_neighbors': 15, 'p': 1}, {'leaf_size': 20, 'n_neighbors': 15, 'p': 2}, {'leaf_size': 20, 'n_neighbors': 17, 'p': 1}, {'leaf_size': 20, 'n_neighbors': 17, 'p': 2}, {'leaf_size': 20, 'n_neighbors': 19, 'p': 1}, {'leaf_size': 20, 'n_neighbors': 19, 'p': 2}, {'leaf_size': 20, 'n_neighbors': 21, 'p': 1}, {'leaf_size': 20, 'n_neighbors': 21, 'p': 2}, {'leaf_size': 20, 'n_neighbors': 23, 'p': 1}, {'leaf_size': 20, 'n_neighbors': 23, 'p': 2}, {'leaf_size': 20, 'n_neighbors': 25, 'p': 1}, {'leaf_size': 20, 'n_neighbors': 25, 'p': 2}, {'leaf_size': 20, 'n_neighbors': 27, 'p': 1}, {'leaf_size': 20, 'n_neighbors': 27, 'p': 2}, {'leaf_size': 20, 'n_neighbors': 29, 'p': 1}, {'leaf_size': 20, 'n_neighbors': 29, 'p': 2}, {'leaf_size': 21, 'n_neighbors': 1, 'p': 1}, {'leaf_size': 21, 'n_neighbors': 1, 'p': 2}, {'leaf_size': 21, 'n_neighbors': 3, 'p': 1}, {'leaf_size': 21, 'n_neighbors': 3, 'p': 2}, {'leaf_size': 21, 'n_neighbors': 5, 'p': 1}, {'leaf_size': 21, 'n_neighbors': 5, 'p': 2}, {'leaf_size': 21, 'n_neighbors': 7, 'p': 1}, {'leaf_size': 21, 'n_neighbors': 7, 'p': 2}, {'leaf_size': 21, 'n_neighbors': 9, 'p': 1}, {'leaf_size': 21, 'n_neighbors': 9, 'p': 2}, {'leaf_size': 21, 'n_neighbors': 11, 'p': 1}, {'leaf_size': 21, 'n_neighbors': 11, 'p': 2}, {'leaf_size': 21, 'n_neighbors': 13, 'p': 1}, {'leaf_size': 21, 'n_neighbors': 13, 'p': 2}, {'leaf_size': 21, 'n_neighbors': 15, 'p': 1}, {'leaf_size': 21, 'n_neighbors': 15, 'p': 2}, {'leaf_size': 21, 'n_neighbors': 17, 'p': 1}, {'leaf_size': 21, 'n_neighbors': 17, 'p': 2}, {'leaf_size': 21, 'n_neighbors': 19, 'p': 1}, {'leaf_size': 21, 'n_neighbors': 19, 'p': 2}, {'leaf_size': 21, 'n_neighbors': 21, 'p': 1}, {'leaf_size': 21, 'n_neighbors': 21, 'p': 2}, {'leaf_size': 21, 'n_neighbors': 23, 'p': 1}, {'leaf_size': 21, 'n_neighbors': 23, 'p': 2}, {'leaf_size': 21, 'n_neighbors': 25, 'p': 1}, {'leaf_size': 21, 'n_neighbors': 25, 'p': 2}, {'leaf_size': 21, 'n_neighbors': 27, 'p': 1}, {'leaf_size': 21, 'n_neighbors': 27, 'p': 2}, {'leaf_size': 21, 'n_neighbors': 29, 'p': 1}, {'leaf_size': 21, 'n_neighbors': 29, 'p': 2}, {'leaf_size': 22, 'n_neighbors': 1, 'p': 1}, {'leaf_size': 22, 'n_neighbors': 1, 'p': 2}, {'leaf_size': 22, 'n_neighbors': 3, 'p': 1}, {'leaf_size': 22, 'n_neighbors': 3, 'p': 2}, {'leaf_size': 22, 'n_neighbors': 5, 'p': 1}, {'leaf_size': 22, 'n_neighbors': 5, 'p': 2}, {'leaf_size': 22, 'n_neighbors': 7, 'p': 1}, {'leaf_size': 22, 'n_neighbors': 7, 'p': 2}, {'leaf_size': 22, 'n_neighbors': 9, 'p': 1}, {'leaf_size': 22, 'n_neighbors': 9, 'p': 2}, {'leaf_size': 22, 'n_neighbors': 11, 'p': 1}, {'leaf_size': 22, 'n_neighbors': 11, 'p': 2}, {'leaf_size': 22, 'n_neighbors': 13, 'p': 1}, {'leaf_size': 22, 'n_neighbors': 13, 'p': 2}, {'leaf_size': 22, 'n_neighbors': 15, 'p': 1}, {'leaf_size': 22, 'n_neighbors': 15, 'p': 2}, {'leaf_size': 22, 'n_neighbors': 17, 'p': 1}, {'leaf_size': 22, 'n_neighbors': 17, 'p': 2}, {'leaf_size': 22, 'n_neighbors': 19, 'p': 1}, {'leaf_size': 22, 'n_neighbors': 19, 'p': 2}, {'leaf_size': 22, 'n_neighbors': 21, 'p': 1}, {'leaf_size': 22, 'n_neighbors': 21, 'p': 2}, {'leaf_size': 22, 'n_neighbors': 23, 'p': 1}, {'leaf_size': 22, 'n_neighbors': 23, 'p': 2}, {'leaf_size': 22, 'n_neighbors': 25, 'p': 1}, {'leaf_size': 22, 'n_neighbors': 25, 'p': 2}, {'leaf_size': 22, 'n_neighbors': 27, 'p': 1}, {'leaf_size': 22, 'n_neighbors': 27, 'p': 2}, {'leaf_size': 22, 'n_neighbors': 29, 'p': 1}, {'leaf_size': 22, 'n_neighbors': 29, 'p': 2}, {'leaf_size': 23, 'n_neighbors': 1, 'p': 1}, {'leaf_size': 23, 'n_neighbors': 1, 'p': 2}, {'leaf_size': 23, 'n_neighbors': 3, 'p': 1}, {'leaf_size': 23, 'n_neighbors': 3, 'p': 2}, {'leaf_size': 23, 'n_neighbors': 5, 'p': 1}, {'leaf_size': 23, 'n_neighbors': 5, 'p': 2}, {'leaf_size': 23, 'n_neighbors': 7, 'p': 1}, {'leaf_size': 23, 'n_neighbors': 7, 'p': 2}, {'leaf_size': 23, 'n_neighbors': 9, 'p': 1}, {'leaf_size': 23, 'n_neighbors': 9, 'p': 2}, {'leaf_size': 23, 'n_neighbors': 11, 'p': 1}, {'leaf_size': 23, 'n_neighbors': 11, 'p': 2}, {'leaf_size': 23, 'n_neighbors': 13, 'p': 1}, {'leaf_size': 23, 'n_neighbors': 13, 'p': 2}, {'leaf_size': 23, 'n_neighbors': 15, 'p': 1}, {'leaf_size': 23, 'n_neighbors': 15, 'p': 2}, {'leaf_size': 23, 'n_neighbors': 17, 'p': 1}, {'leaf_size': 23, 'n_neighbors': 17, 'p': 2}, {'leaf_size': 23, 'n_neighbors': 19, 'p': 1}, {'leaf_size': 23, 'n_neighbors': 19, 'p': 2}, {'leaf_size': 23, 'n_neighbors': 21, 'p': 1}, {'leaf_size': 23, 'n_neighbors': 21, 'p': 2}, {'leaf_size': 23, 'n_neighbors': 23, 'p': 1}, {'leaf_size': 23, 'n_neighbors': 23, 'p': 2}, {'leaf_size': 23, 'n_neighbors': 25, 'p': 1}, {'leaf_size': 23, 'n_neighbors': 25, 'p': 2}, {'leaf_size': 23, 'n_neighbors': 27, 'p': 1}, {'leaf_size': 23, 'n_neighbors': 27, 'p': 2}, {'leaf_size': 23, 'n_neighbors': 29, 'p': 1}, {'leaf_size': 23, 'n_neighbors': 29, 'p': 2}, {'leaf_size': 24, 'n_neighbors': 1, 'p': 1}, {'leaf_size': 24, 'n_neighbors': 1, 'p': 2}, {'leaf_size': 24, 'n_neighbors': 3, 'p': 1}, {'leaf_size': 24, 'n_neighbors': 3, 'p': 2}, {'leaf_size': 24, 'n_neighbors': 5, 'p': 1}, {'leaf_size': 24, 'n_neighbors': 5, 'p': 2}, {'leaf_size': 24, 'n_neighbors': 7, 'p': 1}, {'leaf_size': 24, 'n_neighbors': 7, 'p': 2}, {'leaf_size': 24, 'n_neighbors': 9, 'p': 1}, {'leaf_size': 24, 'n_neighbors': 9, 'p': 2}, {'leaf_size': 24, 'n_neighbors': 11, 'p': 1}, {'leaf_size': 24, 'n_neighbors': 11, 'p': 2}, {'leaf_size': 24, 'n_neighbors': 13, 'p': 1}, {'leaf_size': 24, 'n_neighbors': 13, 'p': 2}, {'leaf_size': 24, 'n_neighbors': 15, 'p': 1}, {'leaf_size': 24, 'n_neighbors': 15, 'p': 2}, {'leaf_size': 24, 'n_neighbors': 17, 'p': 1}, {'leaf_size': 24, 'n_neighbors': 17, 'p': 2}, {'leaf_size': 24, 'n_neighbors': 19, 'p': 1}, {'leaf_size': 24, 'n_neighbors': 19, 'p': 2}, {'leaf_size': 24, 'n_neighbors': 21, 'p': 1}, {'leaf_size': 24, 'n_neighbors': 21, 'p': 2}, {'leaf_size': 24, 'n_neighbors': 23, 'p': 1}, {'leaf_size': 24, 'n_neighbors': 23, 'p': 2}, {'leaf_size': 24, 'n_neighbors': 25, 'p': 1}, {'leaf_size': 24, 'n_neighbors': 25, 'p': 2}, {'leaf_size': 24, 'n_neighbors': 27, 'p': 1}, {'leaf_size': 24, 'n_neighbors': 27, 'p': 2}, {'leaf_size': 24, 'n_neighbors': 29, 'p': 1}, {'leaf_size': 24, 'n_neighbors': 29, 'p': 2}, {'leaf_size': 25, 'n_neighbors': 1, 'p': 1}, {'leaf_size': 25, 'n_neighbors': 1, 'p': 2}, {'leaf_size': 25, 'n_neighbors': 3, 'p': 1}, {'leaf_size': 25, 'n_neighbors': 3, 'p': 2}, {'leaf_size': 25, 'n_neighbors': 5, 'p': 1}, {'leaf_size': 25, 'n_neighbors': 5, 'p': 2}, {'leaf_size': 25, 'n_neighbors': 7, 'p': 1}, {'leaf_size': 25, 'n_neighbors': 7, 'p': 2}, {'leaf_size': 25, 'n_neighbors': 9, 'p': 1}, {'leaf_size': 25, 'n_neighbors': 9, 'p': 2}, {'leaf_size': 25, 'n_neighbors': 11, 'p': 1}, {'leaf_size': 25, 'n_neighbors': 11, 'p': 2}, {'leaf_size': 25, 'n_neighbors': 13, 'p': 1}, {'leaf_size': 25, 'n_neighbors': 13, 'p': 2}, {'leaf_size': 25, 'n_neighbors': 15, 'p': 1}, {'leaf_size': 25, 'n_neighbors': 15, 'p': 2}, {'leaf_size': 25, 'n_neighbors': 17, 'p': 1}, {'leaf_size': 25, 'n_neighbors': 17, 'p': 2}, {'leaf_size': 25, 'n_neighbors': 19, 'p': 1}, {'leaf_size': 25, 'n_neighbors': 19, 'p': 2}, {'leaf_size': 25, 'n_neighbors': 21, 'p': 1}, {'leaf_size': 25, 'n_neighbors': 21, 'p': 2}, {'leaf_size': 25, 'n_neighbors': 23, 'p': 1}, {'leaf_size': 25, 'n_neighbors': 23, 'p': 2}, {'leaf_size': 25, 'n_neighbors': 25, 'p': 1}, {'leaf_size': 25, 'n_neighbors': 25, 'p': 2}, {'leaf_size': 25, 'n_neighbors': 27, 'p': 1}, {'leaf_size': 25, 'n_neighbors': 27, 'p': 2}, {'leaf_size': 25, 'n_neighbors': 29, 'p': 1}, {'leaf_size': 25, 'n_neighbors': 29, 'p': 2}, {'leaf_size': 26, 'n_neighbors': 1, 'p': 1}, {'leaf_size': 26, 'n_neighbors': 1, 'p': 2}, {'leaf_size': 26, 'n_neighbors': 3, 'p': 1}, {'leaf_size': 26, 'n_neighbors': 3, 'p': 2}, {'leaf_size': 26, 'n_neighbors': 5, 'p': 1}, {'leaf_size': 26, 'n_neighbors': 5, 'p': 2}, {'leaf_size': 26, 'n_neighbors': 7, 'p': 1}, {'leaf_size': 26, 'n_neighbors': 7, 'p': 2}, {'leaf_size': 26, 'n_neighbors': 9, 'p': 1}, {'leaf_size': 26, 'n_neighbors': 9, 'p': 2}, {'leaf_size': 26, 'n_neighbors': 11, 'p': 1}, {'leaf_size': 26, 'n_neighbors': 11, 'p': 2}, {'leaf_size': 26, 'n_neighbors': 13, 'p': 1}, {'leaf_size': 26, 'n_neighbors': 13, 'p': 2}, {'leaf_size': 26, 'n_neighbors': 15, 'p': 1}, {'leaf_size': 26, 'n_neighbors': 15, 'p': 2}, {'leaf_size': 26, 'n_neighbors': 17, 'p': 1}, {'leaf_size': 26, 'n_neighbors': 17, 'p': 2}, {'leaf_size': 26, 'n_neighbors': 19, 'p': 1}, {'leaf_size': 26, 'n_neighbors': 19, 'p': 2}, {'leaf_size': 26, 'n_neighbors': 21, 'p': 1}, {'leaf_size': 26, 'n_neighbors': 21, 'p': 2}, {'leaf_size': 26, 'n_neighbors': 23, 'p': 1}, {'leaf_size': 26, 'n_neighbors': 23, 'p': 2}, {'leaf_size': 26, 'n_neighbors': 25, 'p': 1}, {'leaf_size': 26, 'n_neighbors': 25, 'p': 2}, {'leaf_size': 26, 'n_neighbors': 27, 'p': 1}, {'leaf_size': 26, 'n_neighbors': 27, 'p': 2}, {'leaf_size': 26, 'n_neighbors': 29, 'p': 1}, {'leaf_size': 26, 'n_neighbors': 29, 'p': 2}, {'leaf_size': 27, 'n_neighbors': 1, 'p': 1}, {'leaf_size': 27, 'n_neighbors': 1, 'p': 2}, {'leaf_size': 27, 'n_neighbors': 3, 'p': 1}, {'leaf_size': 27, 'n_neighbors': 3, 'p': 2}, {'leaf_size': 27, 'n_neighbors': 5, 'p': 1}, {'leaf_size': 27, 'n_neighbors': 5, 'p': 2}, {'leaf_size': 27, 'n_neighbors': 7, 'p': 1}, {'leaf_size': 27, 'n_neighbors': 7, 'p': 2}, {'leaf_size': 27, 'n_neighbors': 9, 'p': 1}, {'leaf_size': 27, 'n_neighbors': 9, 'p': 2}, {'leaf_size': 27, 'n_neighbors': 11, 'p': 1}, {'leaf_size': 27, 'n_neighbors': 11, 'p': 2}, {'leaf_size': 27, 'n_neighbors': 13, 'p': 1}, {'leaf_size': 27, 'n_neighbors': 13, 'p': 2}, {'leaf_size': 27, 'n_neighbors': 15, 'p': 1}, {'leaf_size': 27, 'n_neighbors': 15, 'p': 2}, {'leaf_size': 27, 'n_neighbors': 17, 'p': 1}, {'leaf_size': 27, 'n_neighbors': 17, 'p': 2}, {'leaf_size': 27, 'n_neighbors': 19, 'p': 1}, {'leaf_size': 27, 'n_neighbors': 19, 'p': 2}, {'leaf_size': 27, 'n_neighbors': 21, 'p': 1}, {'leaf_size': 27, 'n_neighbors': 21, 'p': 2}, {'leaf_size': 27, 'n_neighbors': 23, 'p': 1}, {'leaf_size': 27, 'n_neighbors': 23, 'p': 2}, {'leaf_size': 27, 'n_neighbors': 25, 'p': 1}, {'leaf_size': 27, 'n_neighbors': 25, 'p': 2}, {'leaf_size': 27, 'n_neighbors': 27, 'p': 1}, {'leaf_size': 27, 'n_neighbors': 27, 'p': 2}, {'leaf_size': 27, 'n_neighbors': 29, 'p': 1}, {'leaf_size': 27, 'n_neighbors': 29, 'p': 2}, {'leaf_size': 28, 'n_neighbors': 1, 'p': 1}, {'leaf_size': 28, 'n_neighbors': 1, 'p': 2}, {'leaf_size': 28, 'n_neighbors': 3, 'p': 1}, {'leaf_size': 28, 'n_neighbors': 3, 'p': 2}, {'leaf_size': 28, 'n_neighbors': 5, 'p': 1}, {'leaf_size': 28, 'n_neighbors': 5, 'p': 2}, {'leaf_size': 28, 'n_neighbors': 7, 'p': 1}, {'leaf_size': 28, 'n_neighbors': 7, 'p': 2}, {'leaf_size': 28, 'n_neighbors': 9, 'p': 1}, {'leaf_size': 28, 'n_neighbors': 9, 'p': 2}, {'leaf_size': 28, 'n_neighbors': 11, 'p': 1}, {'leaf_size': 28, 'n_neighbors': 11, 'p': 2}, {'leaf_size': 28, 'n_neighbors': 13, 'p': 1}, {'leaf_size': 28, 'n_neighbors': 13, 'p': 2}, {'leaf_size': 28, 'n_neighbors': 15, 'p': 1}, {'leaf_size': 28, 'n_neighbors': 15, 'p': 2}, {'leaf_size': 28, 'n_neighbors': 17, 'p': 1}, {'leaf_size': 28, 'n_neighbors': 17, 'p': 2}, {'leaf_size': 28, 'n_neighbors': 19, 'p': 1}, {'leaf_size': 28, 'n_neighbors': 19, 'p': 2}, {'leaf_size': 28, 'n_neighbors': 21, 'p': 1}, {'leaf_size': 28, 'n_neighbors': 21, 'p': 2}, {'leaf_size': 28, 'n_neighbors': 23, 'p': 1}, {'leaf_size': 28, 'n_neighbors': 23, 'p': 2}, {'leaf_size': 28, 'n_neighbors': 25, 'p': 1}, {'leaf_size': 28, 'n_neighbors': 25, 'p': 2}, {'leaf_size': 28, 'n_neighbors': 27, 'p': 1}, {'leaf_size': 28, 'n_neighbors': 27, 'p': 2}, {'leaf_size': 28, 'n_neighbors': 29, 'p': 1}, {'leaf_size': 28, 'n_neighbors': 29, 'p': 2}, {'leaf_size': 29, 'n_neighbors': 1, 'p': 1}, {'leaf_size': 29, 'n_neighbors': 1, 'p': 2}, {'leaf_size': 29, 'n_neighbors': 3, 'p': 1}, {'leaf_size': 29, 'n_neighbors': 3, 'p': 2}, {'leaf_size': 29, 'n_neighbors': 5, 'p': 1}, {'leaf_size': 29, 'n_neighbors': 5, 'p': 2}, {'leaf_size': 29, 'n_neighbors': 7, 'p': 1}, {'leaf_size': 29, 'n_neighbors': 7, 'p': 2}, {'leaf_size': 29, 'n_neighbors': 9, 'p': 1}, {'leaf_size': 29, 'n_neighbors': 9, 'p': 2}, {'leaf_size': 29, 'n_neighbors': 11, 'p': 1}, {'leaf_size': 29, 'n_neighbors': 11, 'p': 2}, {'leaf_size': 29, 'n_neighbors': 13, 'p': 1}, {'leaf_size': 29, 'n_neighbors': 13, 'p': 2}, {'leaf_size': 29, 'n_neighbors': 15, 'p': 1}, {'leaf_size': 29, 'n_neighbors': 15, 'p': 2}, {'leaf_size': 29, 'n_neighbors': 17, 'p': 1}, {'leaf_size': 29, 'n_neighbors': 17, 'p': 2}, {'leaf_size': 29, 'n_neighbors': 19, 'p': 1}, {'leaf_size': 29, 'n_neighbors': 19, 'p': 2}, {'leaf_size': 29, 'n_neighbors': 21, 'p': 1}, {'leaf_size': 29, 'n_neighbors': 21, 'p': 2}, {'leaf_size': 29, 'n_neighbors': 23, 'p': 1}, {'leaf_size': 29, 'n_neighbors': 23, 'p': 2}, {'leaf_size': 29, 'n_neighbors': 25, 'p': 1}, {'leaf_size': 29, 'n_neighbors': 25, 'p': 2}, {'leaf_size': 29, 'n_neighbors': 27, 'p': 1}, {'leaf_size': 29, 'n_neighbors': 27, 'p': 2}, {'leaf_size': 29, 'n_neighbors': 29, 'p': 1}, {'leaf_size': 29, 'n_neighbors': 29, 'p': 2}, {'leaf_size': 30, 'n_neighbors': 1, 'p': 1}, {'leaf_size': 30, 'n_neighbors': 1, 'p': 2}, {'leaf_size': 30, 'n_neighbors': 3, 'p': 1}, {'leaf_size': 30, 'n_neighbors': 3, 'p': 2}, {'leaf_size': 30, 'n_neighbors': 5, 'p': 1}, {'leaf_size': 30, 'n_neighbors': 5, 'p': 2}, {'leaf_size': 30, 'n_neighbors': 7, 'p': 1}, {'leaf_size': 30, 'n_neighbors': 7, 'p': 2}, {'leaf_size': 30, 'n_neighbors': 9, 'p': 1}, {'leaf_size': 30, 'n_neighbors': 9, 'p': 2}, {'leaf_size': 30, 'n_neighbors': 11, 'p': 1}, {'leaf_size': 30, 'n_neighbors': 11, 'p': 2}, {'leaf_size': 30, 'n_neighbors': 13, 'p': 1}, {'leaf_size': 30, 'n_neighbors': 13, 'p': 2}, {'leaf_size': 30, 'n_neighbors': 15, 'p': 1}, {'leaf_size': 30, 'n_neighbors': 15, 'p': 2}, {'leaf_size': 30, 'n_neighbors': 17, 'p': 1}, {'leaf_size': 30, 'n_neighbors': 17, 'p': 2}, {'leaf_size': 30, 'n_neighbors': 19, 'p': 1}, {'leaf_size': 30, 'n_neighbors': 19, 'p': 2}, {'leaf_size': 30, 'n_neighbors': 21, 'p': 1}, {'leaf_size': 30, 'n_neighbors': 21, 'p': 2}, {'leaf_size': 30, 'n_neighbors': 23, 'p': 1}, {'leaf_size': 30, 'n_neighbors': 23, 'p': 2}, {'leaf_size': 30, 'n_neighbors': 25, 'p': 1}, {'leaf_size': 30, 'n_neighbors': 25, 'p': 2}, {'leaf_size': 30, 'n_neighbors': 27, 'p': 1}, {'leaf_size': 30, 'n_neighbors': 27, 'p': 2}, {'leaf_size': 30, 'n_neighbors': 29, 'p': 1}, {'leaf_size': 30, 'n_neighbors': 29, 'p': 2}, {'leaf_size': 31, 'n_neighbors': 1, 'p': 1}, {'leaf_size': 31, 'n_neighbors': 1, 'p': 2}, {'leaf_size': 31, 'n_neighbors': 3, 'p': 1}, {'leaf_size': 31, 'n_neighbors': 3, 'p': 2}, {'leaf_size': 31, 'n_neighbors': 5, 'p': 1}, {'leaf_size': 31, 'n_neighbors': 5, 'p': 2}, {'leaf_size': 31, 'n_neighbors': 7, 'p': 1}, {'leaf_size': 31, 'n_neighbors': 7, 'p': 2}, {'leaf_size': 31, 'n_neighbors': 9, 'p': 1}, {'leaf_size': 31, 'n_neighbors': 9, 'p': 2}, {'leaf_size': 31, 'n_neighbors': 11, 'p': 1}, {'leaf_size': 31, 'n_neighbors': 11, 'p': 2}, {'leaf_size': 31, 'n_neighbors': 13, 'p': 1}, {'leaf_size': 31, 'n_neighbors': 13, 'p': 2}, {'leaf_size': 31, 'n_neighbors': 15, 'p': 1}, {'leaf_size': 31, 'n_neighbors': 15, 'p': 2}, {'leaf_size': 31, 'n_neighbors': 17, 'p': 1}, {'leaf_size': 31, 'n_neighbors': 17, 'p': 2}, {'leaf_size': 31, 'n_neighbors': 19, 'p': 1}, {'leaf_size': 31, 'n_neighbors': 19, 'p': 2}, {'leaf_size': 31, 'n_neighbors': 21, 'p': 1}, {'leaf_size': 31, 'n_neighbors': 21, 'p': 2}, {'leaf_size': 31, 'n_neighbors': 23, 'p': 1}, {'leaf_size': 31, 'n_neighbors': 23, 'p': 2}, {'leaf_size': 31, 'n_neighbors': 25, 'p': 1}, {'leaf_size': 31, 'n_neighbors': 25, 'p': 2}, {'leaf_size': 31, 'n_neighbors': 27, 'p': 1}, {'leaf_size': 31, 'n_neighbors': 27, 'p': 2}, {'leaf_size': 31, 'n_neighbors': 29, 'p': 1}, {'leaf_size': 31, 'n_neighbors': 29, 'p': 2}, {'leaf_size': 32, 'n_neighbors': 1, 'p': 1}, {'leaf_size': 32, 'n_neighbors': 1, 'p': 2}, {'leaf_size': 32, 'n_neighbors': 3, 'p': 1}, {'leaf_size': 32, 'n_neighbors': 3, 'p': 2}, {'leaf_size': 32, 'n_neighbors': 5, 'p': 1}, {'leaf_size': 32, 'n_neighbors': 5, 'p': 2}, {'leaf_size': 32, 'n_neighbors': 7, 'p': 1}, {'leaf_size': 32, 'n_neighbors': 7, 'p': 2}, {'leaf_size': 32, 'n_neighbors': 9, 'p': 1}, {'leaf_size': 32, 'n_neighbors': 9, 'p': 2}, {'leaf_size': 32, 'n_neighbors': 11, 'p': 1}, {'leaf_size': 32, 'n_neighbors': 11, 'p': 2}, {'leaf_size': 32, 'n_neighbors': 13, 'p': 1}, {'leaf_size': 32, 'n_neighbors': 13, 'p': 2}, {'leaf_size': 32, 'n_neighbors': 15, 'p': 1}, {'leaf_size': 32, 'n_neighbors': 15, 'p': 2}, {'leaf_size': 32, 'n_neighbors': 17, 'p': 1}, {'leaf_size': 32, 'n_neighbors': 17, 'p': 2}, {'leaf_size': 32, 'n_neighbors': 19, 'p': 1}, {'leaf_size': 32, 'n_neighbors': 19, 'p': 2}, {'leaf_size': 32, 'n_neighbors': 21, 'p': 1}, {'leaf_size': 32, 'n_neighbors': 21, 'p': 2}, {'leaf_size': 32, 'n_neighbors': 23, 'p': 1}, {'leaf_size': 32, 'n_neighbors': 23, 'p': 2}, {'leaf_size': 32, 'n_neighbors': 25, 'p': 1}, {'leaf_size': 32, 'n_neighbors': 25, 'p': 2}, {'leaf_size': 32, 'n_neighbors': 27, 'p': 1}, {'leaf_size': 32, 'n_neighbors': 27, 'p': 2}, {'leaf_size': 32, 'n_neighbors': 29, 'p': 1}, {'leaf_size': 32, 'n_neighbors': 29, 'p': 2}, {'leaf_size': 33, 'n_neighbors': 1, 'p': 1}, {'leaf_size': 33, 'n_neighbors': 1, 'p': 2}, {'leaf_size': 33, 'n_neighbors': 3, 'p': 1}, {'leaf_size': 33, 'n_neighbors': 3, 'p': 2}, {'leaf_size': 33, 'n_neighbors': 5, 'p': 1}, {'leaf_size': 33, 'n_neighbors': 5, 'p': 2}, {'leaf_size': 33, 'n_neighbors': 7, 'p': 1}, {'leaf_size': 33, 'n_neighbors': 7, 'p': 2}, {'leaf_size': 33, 'n_neighbors': 9, 'p': 1}, {'leaf_size': 33, 'n_neighbors': 9, 'p': 2}, {'leaf_size': 33, 'n_neighbors': 11, 'p': 1}, {'leaf_size': 33, 'n_neighbors': 11, 'p': 2}, {'leaf_size': 33, 'n_neighbors': 13, 'p': 1}, {'leaf_size': 33, 'n_neighbors': 13, 'p': 2}, {'leaf_size': 33, 'n_neighbors': 15, 'p': 1}, {'leaf_size': 33, 'n_neighbors': 15, 'p': 2}, {'leaf_size': 33, 'n_neighbors': 17, 'p': 1}, {'leaf_size': 33, 'n_neighbors': 17, 'p': 2}, {'leaf_size': 33, 'n_neighbors': 19, 'p': 1}, {'leaf_size': 33, 'n_neighbors': 19, 'p': 2}, {'leaf_size': 33, 'n_neighbors': 21, 'p': 1}, {'leaf_size': 33, 'n_neighbors': 21, 'p': 2}, {'leaf_size': 33, 'n_neighbors': 23, 'p': 1}, {'leaf_size': 33, 'n_neighbors': 23, 'p': 2}, {'leaf_size': 33, 'n_neighbors': 25, 'p': 1}, {'leaf_size': 33, 'n_neighbors': 25, 'p': 2}, {'leaf_size': 33, 'n_neighbors': 27, 'p': 1}, {'leaf_size': 33, 'n_neighbors': 27, 'p': 2}, {'leaf_size': 33, 'n_neighbors': 29, 'p': 1}, {'leaf_size': 33, 'n_neighbors': 29, 'p': 2}, {'leaf_size': 34, 'n_neighbors': 1, 'p': 1}, {'leaf_size': 34, 'n_neighbors': 1, 'p': 2}, {'leaf_size': 34, 'n_neighbors': 3, 'p': 1}, {'leaf_size': 34, 'n_neighbors': 3, 'p': 2}, {'leaf_size': 34, 'n_neighbors': 5, 'p': 1}, {'leaf_size': 34, 'n_neighbors': 5, 'p': 2}, {'leaf_size': 34, 'n_neighbors': 7, 'p': 1}, {'leaf_size': 34, 'n_neighbors': 7, 'p': 2}, {'leaf_size': 34, 'n_neighbors': 9, 'p': 1}, {'leaf_size': 34, 'n_neighbors': 9, 'p': 2}, {'leaf_size': 34, 'n_neighbors': 11, 'p': 1}, {'leaf_size': 34, 'n_neighbors': 11, 'p': 2}, {'leaf_size': 34, 'n_neighbors': 13, 'p': 1}, {'leaf_size': 34, 'n_neighbors': 13, 'p': 2}, {'leaf_size': 34, 'n_neighbors': 15, 'p': 1}, {'leaf_size': 34, 'n_neighbors': 15, 'p': 2}, {'leaf_size': 34, 'n_neighbors': 17, 'p': 1}, {'leaf_size': 34, 'n_neighbors': 17, 'p': 2}, {'leaf_size': 34, 'n_neighbors': 19, 'p': 1}, {'leaf_size': 34, 'n_neighbors': 19, 'p': 2}, {'leaf_size': 34, 'n_neighbors': 21, 'p': 1}, {'leaf_size': 34, 'n_neighbors': 21, 'p': 2}, {'leaf_size': 34, 'n_neighbors': 23, 'p': 1}, {'leaf_size': 34, 'n_neighbors': 23, 'p': 2}, {'leaf_size': 34, 'n_neighbors': 25, 'p': 1}, {'leaf_size': 34, 'n_neighbors': 25, 'p': 2}, {'leaf_size': 34, 'n_neighbors': 27, 'p': 1}, {'leaf_size': 34, 'n_neighbors': 27, 'p': 2}, {'leaf_size': 34, 'n_neighbors': 29, 'p': 1}, {'leaf_size': 34, 'n_neighbors': 29, 'p': 2}, {'leaf_size': 35, 'n_neighbors': 1, 'p': 1}, {'leaf_size': 35, 'n_neighbors': 1, 'p': 2}, {'leaf_size': 35, 'n_neighbors': 3, 'p': 1}, {'leaf_size': 35, 'n_neighbors': 3, 'p': 2}, {'leaf_size': 35, 'n_neighbors': 5, 'p': 1}, {'leaf_size': 35, 'n_neighbors': 5, 'p': 2}, {'leaf_size': 35, 'n_neighbors': 7, 'p': 1}, {'leaf_size': 35, 'n_neighbors': 7, 'p': 2}, {'leaf_size': 35, 'n_neighbors': 9, 'p': 1}, {'leaf_size': 35, 'n_neighbors': 9, 'p': 2}, {'leaf_size': 35, 'n_neighbors': 11, 'p': 1}, {'leaf_size': 35, 'n_neighbors': 11, 'p': 2}, {'leaf_size': 35, 'n_neighbors': 13, 'p': 1}, {'leaf_size': 35, 'n_neighbors': 13, 'p': 2}, {'leaf_size': 35, 'n_neighbors': 15, 'p': 1}, {'leaf_size': 35, 'n_neighbors': 15, 'p': 2}, {'leaf_size': 35, 'n_neighbors': 17, 'p': 1}, {'leaf_size': 35, 'n_neighbors': 17, 'p': 2}, {'leaf_size': 35, 'n_neighbors': 19, 'p': 1}, {'leaf_size': 35, 'n_neighbors': 19, 'p': 2}, {'leaf_size': 35, 'n_neighbors': 21, 'p': 1}, {'leaf_size': 35, 'n_neighbors': 21, 'p': 2}, {'leaf_size': 35, 'n_neighbors': 23, 'p': 1}, {'leaf_size': 35, 'n_neighbors': 23, 'p': 2}, {'leaf_size': 35, 'n_neighbors': 25, 'p': 1}, {'leaf_size': 35, 'n_neighbors': 25, 'p': 2}, {'leaf_size': 35, 'n_neighbors': 27, 'p': 1}, {'leaf_size': 35, 'n_neighbors': 27, 'p': 2}, {'leaf_size': 35, 'n_neighbors': 29, 'p': 1}, {'leaf_size': 35, 'n_neighbors': 29, 'p': 2}, {'leaf_size': 36, 'n_neighbors': 1, 'p': 1}, {'leaf_size': 36, 'n_neighbors': 1, 'p': 2}, {'leaf_size': 36, 'n_neighbors': 3, 'p': 1}, {'leaf_size': 36, 'n_neighbors': 3, 'p': 2}, {'leaf_size': 36, 'n_neighbors': 5, 'p': 1}, {'leaf_size': 36, 'n_neighbors': 5, 'p': 2}, {'leaf_size': 36, 'n_neighbors': 7, 'p': 1}, {'leaf_size': 36, 'n_neighbors': 7, 'p': 2}, {'leaf_size': 36, 'n_neighbors': 9, 'p': 1}, {'leaf_size': 36, 'n_neighbors': 9, 'p': 2}, {'leaf_size': 36, 'n_neighbors': 11, 'p': 1}, {'leaf_size': 36, 'n_neighbors': 11, 'p': 2}, {'leaf_size': 36, 'n_neighbors': 13, 'p': 1}, {'leaf_size': 36, 'n_neighbors': 13, 'p': 2}, {'leaf_size': 36, 'n_neighbors': 15, 'p': 1}, {'leaf_size': 36, 'n_neighbors': 15, 'p': 2}, {'leaf_size': 36, 'n_neighbors': 17, 'p': 1}, {'leaf_size': 36, 'n_neighbors': 17, 'p': 2}, {'leaf_size': 36, 'n_neighbors': 19, 'p': 1}, {'leaf_size': 36, 'n_neighbors': 19, 'p': 2}, {'leaf_size': 36, 'n_neighbors': 21, 'p': 1}, {'leaf_size': 36, 'n_neighbors': 21, 'p': 2}, {'leaf_size': 36, 'n_neighbors': 23, 'p': 1}, {'leaf_size': 36, 'n_neighbors': 23, 'p': 2}, {'leaf_size': 36, 'n_neighbors': 25, 'p': 1}, {'leaf_size': 36, 'n_neighbors': 25, 'p': 2}, {'leaf_size': 36, 'n_neighbors': 27, 'p': 1}, {'leaf_size': 36, 'n_neighbors': 27, 'p': 2}, {'leaf_size': 36, 'n_neighbors': 29, 'p': 1}, {'leaf_size': 36, 'n_neighbors': 29, 'p': 2}, {'leaf_size': 37, 'n_neighbors': 1, 'p': 1}, {'leaf_size': 37, 'n_neighbors': 1, 'p': 2}, {'leaf_size': 37, 'n_neighbors': 3, 'p': 1}, {'leaf_size': 37, 'n_neighbors': 3, 'p': 2}, {'leaf_size': 37, 'n_neighbors': 5, 'p': 1}, {'leaf_size': 37, 'n_neighbors': 5, 'p': 2}, {'leaf_size': 37, 'n_neighbors': 7, 'p': 1}, {'leaf_size': 37, 'n_neighbors': 7, 'p': 2}, {'leaf_size': 37, 'n_neighbors': 9, 'p': 1}, {'leaf_size': 37, 'n_neighbors': 9, 'p': 2}, {'leaf_size': 37, 'n_neighbors': 11, 'p': 1}, {'leaf_size': 37, 'n_neighbors': 11, 'p': 2}, {'leaf_size': 37, 'n_neighbors': 13, 'p': 1}, {'leaf_size': 37, 'n_neighbors': 13, 'p': 2}, {'leaf_size': 37, 'n_neighbors': 15, 'p': 1}, {'leaf_size': 37, 'n_neighbors': 15, 'p': 2}, {'leaf_size': 37, 'n_neighbors': 17, 'p': 1}, {'leaf_size': 37, 'n_neighbors': 17, 'p': 2}, {'leaf_size': 37, 'n_neighbors': 19, 'p': 1}, {'leaf_size': 37, 'n_neighbors': 19, 'p': 2}, {'leaf_size': 37, 'n_neighbors': 21, 'p': 1}, {'leaf_size': 37, 'n_neighbors': 21, 'p': 2}, {'leaf_size': 37, 'n_neighbors': 23, 'p': 1}, {'leaf_size': 37, 'n_neighbors': 23, 'p': 2}, {'leaf_size': 37, 'n_neighbors': 25, 'p': 1}, {'leaf_size': 37, 'n_neighbors': 25, 'p': 2}, {'leaf_size': 37, 'n_neighbors': 27, 'p': 1}, {'leaf_size': 37, 'n_neighbors': 27, 'p': 2}, {'leaf_size': 37, 'n_neighbors': 29, 'p': 1}, {'leaf_size': 37, 'n_neighbors': 29, 'p': 2}, {'leaf_size': 38, 'n_neighbors': 1, 'p': 1}, {'leaf_size': 38, 'n_neighbors': 1, 'p': 2}, {'leaf_size': 38, 'n_neighbors': 3, 'p': 1}, {'leaf_size': 38, 'n_neighbors': 3, 'p': 2}, {'leaf_size': 38, 'n_neighbors': 5, 'p': 1}, {'leaf_size': 38, 'n_neighbors': 5, 'p': 2}, {'leaf_size': 38, 'n_neighbors': 7, 'p': 1}, {'leaf_size': 38, 'n_neighbors': 7, 'p': 2}, {'leaf_size': 38, 'n_neighbors': 9, 'p': 1}, {'leaf_size': 38, 'n_neighbors': 9, 'p': 2}, {'leaf_size': 38, 'n_neighbors': 11, 'p': 1}, {'leaf_size': 38, 'n_neighbors': 11, 'p': 2}, {'leaf_size': 38, 'n_neighbors': 13, 'p': 1}, {'leaf_size': 38, 'n_neighbors': 13, 'p': 2}, {'leaf_size': 38, 'n_neighbors': 15, 'p': 1}, {'leaf_size': 38, 'n_neighbors': 15, 'p': 2}, {'leaf_size': 38, 'n_neighbors': 17, 'p': 1}, {'leaf_size': 38, 'n_neighbors': 17, 'p': 2}, {'leaf_size': 38, 'n_neighbors': 19, 'p': 1}, {'leaf_size': 38, 'n_neighbors': 19, 'p': 2}, {'leaf_size': 38, 'n_neighbors': 21, 'p': 1}, {'leaf_size': 38, 'n_neighbors': 21, 'p': 2}, {'leaf_size': 38, 'n_neighbors': 23, 'p': 1}, {'leaf_size': 38, 'n_neighbors': 23, 'p': 2}, {'leaf_size': 38, 'n_neighbors': 25, 'p': 1}, {'leaf_size': 38, 'n_neighbors': 25, 'p': 2}, {'leaf_size': 38, 'n_neighbors': 27, 'p': 1}, {'leaf_size': 38, 'n_neighbors': 27, 'p': 2}, {'leaf_size': 38, 'n_neighbors': 29, 'p': 1}, {'leaf_size': 38, 'n_neighbors': 29, 'p': 2}, {'leaf_size': 39, 'n_neighbors': 1, 'p': 1}, {'leaf_size': 39, 'n_neighbors': 1, 'p': 2}, {'leaf_size': 39, 'n_neighbors': 3, 'p': 1}, {'leaf_size': 39, 'n_neighbors': 3, 'p': 2}, {'leaf_size': 39, 'n_neighbors': 5, 'p': 1}, {'leaf_size': 39, 'n_neighbors': 5, 'p': 2}, {'leaf_size': 39, 'n_neighbors': 7, 'p': 1}, {'leaf_size': 39, 'n_neighbors': 7, 'p': 2}, {'leaf_size': 39, 'n_neighbors': 9, 'p': 1}, {'leaf_size': 39, 'n_neighbors': 9, 'p': 2}, {'leaf_size': 39, 'n_neighbors': 11, 'p': 1}, {'leaf_size': 39, 'n_neighbors': 11, 'p': 2}, {'leaf_size': 39, 'n_neighbors': 13, 'p': 1}, {'leaf_size': 39, 'n_neighbors': 13, 'p': 2}, {'leaf_size': 39, 'n_neighbors': 15, 'p': 1}, {'leaf_size': 39, 'n_neighbors': 15, 'p': 2}, {'leaf_size': 39, 'n_neighbors': 17, 'p': 1}, {'leaf_size': 39, 'n_neighbors': 17, 'p': 2}, {'leaf_size': 39, 'n_neighbors': 19, 'p': 1}, {'leaf_size': 39, 'n_neighbors': 19, 'p': 2}, {'leaf_size': 39, 'n_neighbors': 21, 'p': 1}, {'leaf_size': 39, 'n_neighbors': 21, 'p': 2}, {'leaf_size': 39, 'n_neighbors': 23, 'p': 1}, {'leaf_size': 39, 'n_neighbors': 23, 'p': 2}, {'leaf_size': 39, 'n_neighbors': 25, 'p': 1}, {'leaf_size': 39, 'n_neighbors': 25, 'p': 2}, {'leaf_size': 39, 'n_neighbors': 27, 'p': 1}, {'leaf_size': 39, 'n_neighbors': 27, 'p': 2}, {'leaf_size': 39, 'n_neighbors': 29, 'p': 1}, {'leaf_size': 39, 'n_neighbors': 29, 'p': 2}]\n"
          ]
        }
      ],
      "source": [
        "param_grid = {'leaf_size': list(range(20,40)),\n",
        "'n_neighbors': list(range(1,30,2)),\n",
        "'p': [1, 2]}\n",
        "\n",
        "grid = []\n",
        "\n",
        "for key, l in param_grid.items():\n",
        "  content = []\n",
        "  for val in l:\n",
        "    content.append({key: val})\n",
        "  grid.append(content)\n",
        "\n",
        "a = [{k: v for d in item for k, v in d.items()} for item in itertools.product(*grid)]\n",
        "print(a)"
      ]
    },
    {
      "cell_type": "code",
      "execution_count": null,
      "metadata": {
        "id": "nJptppKPdjeI"
      },
      "outputs": [],
      "source": [
        ""
      ]
    }
  ],
  "metadata": {
    "colab": {
      "name": "DAHFI-traininghierarchical.ipynb",
      "provenance": []
    },
    "kernelspec": {
      "display_name": "Python 3",
      "name": "python3"
    },
    "language_info": {
      "name": "python"
    }
  },
  "nbformat": 4,
  "nbformat_minor": 0
}